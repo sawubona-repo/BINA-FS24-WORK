{
  "cells": [
    {
      "cell_type": "markdown",
      "metadata": {
        "id": "Rfg4Lilq-g9K"
      },
      "source": [
        "# The 0/1 Knapsack Problem\n",
        "\n",
        "The 0/1 Knapsack problem occurs whenever you want to maximize some value by selecting an optimal subset of items while obeying certain constraints.  \n",
        "\n",
        "For example, a robber trying to figure out which items to steal; he can't take everything (too heavy) so he wants to maximize the amount of value he can take.\n",
        "\n",
        "Another formulation has an individual on a calorie-restricting diet; she wants to maximize the enjoyment from the food she eats while still staying beneath some set calorie limit.\n",
        "\n",
        "As an aside, it's called the **0/1 knapsack problem** because it is discrete; the robber either takes an item or does not, food is either consumed or left untouched. The **continuous knapsack problem** is significantly easier to solve as you can just take as much as possible right up to the limit; for example, if the robber comes across a store of gold dust then he can just fill his bag as high as it can go.\n",
        "\n",
        "## Diet Scenario\n",
        "\n",
        "We will look at the diet scenario as it is the one covered by the course.\n",
        "\n",
        "> Dave is on a calorie-restricting diet that limits him to 750 calories per meal. He arrives at a restaurant and is trying to decide what to order. He assigns pleasure values to each food and makes note of their cost (in calories).\n",
        "\n",
        "> *Simplification: each item on the menu can only be ordered once*\n",
        "\n",
        "### Data\n",
        "> Simple Food-Value-Calories List\n",
        "\n",
        "\n",
        "### Course  \n",
        "This notebook is an exploration of the 0-1 knapsack problem as formulated by lecture 1 and 2 of [MIT's 6.00.2x course](https://ocw.mit.edu/courses/6-0002-introduction-to-computational-thinking-and-data-science-fall-2016/)"
      ]
    },
    {
      "cell_type": "markdown",
      "source": [
        "---  \n",
        "History:  \n",
        "+ Mai 2024, v1, dbe --- adapted for BINA FS24\n",
        "\n",
        "---"
      ],
      "metadata": {
        "id": "ZBR0PQ2jAaR1"
      }
    },
    {
      "cell_type": "markdown",
      "source": [
        "## A) Load and Inspect Data"
      ],
      "metadata": {
        "id": "e0P_S63oBbd9"
      }
    },
    {
      "cell_type": "code",
      "execution_count": 1,
      "metadata": {
        "collapsed": true,
        "id": "8hXkwZal-g9Q"
      },
      "outputs": [],
      "source": [
        "import pandas as pd"
      ]
    },
    {
      "cell_type": "code",
      "execution_count": 4,
      "metadata": {
        "collapsed": true,
        "id": "X4wt7IdL-g9S"
      },
      "outputs": [],
      "source": [
        "# Read data from csv file into a dataframe\n",
        "filePATH =\"https://raw.githubusercontent.com/sawubona-repo/BINA-FS24-WORK/main/LB08-MachineLearning/Python/\"\n",
        "fileNAME = \"DATA_knapsack_problem_food-value-calories.csv\"\n",
        "\n",
        "data = pd.read_csv(filePATH+fileNAME, delimiter=\";\")"
      ]
    },
    {
      "cell_type": "code",
      "execution_count": 5,
      "metadata": {
        "colab": {
          "base_uri": "https://localhost:8080/",
          "height": 300
        },
        "id": "pZmek1Mp-g9T",
        "outputId": "bf9c97f7-0e32-4afa-a101-09f5fd8f49e3"
      },
      "outputs": [
        {
          "output_type": "execute_result",
          "data": {
            "text/plain": [
              "     Food  Value  Calories\n",
              "0    wine     89       123\n",
              "1    beer     90       154\n",
              "2   pizza     30       258\n",
              "3  burger     50       354\n",
              "4   fries     90       365\n",
              "5    coke     79       150\n",
              "6   apple     90        95\n",
              "7   donut     10       195"
            ],
            "text/html": [
              "\n",
              "  <div id=\"df-007352b7-968a-4142-a39a-a0413fc6f79c\" class=\"colab-df-container\">\n",
              "    <div>\n",
              "<style scoped>\n",
              "    .dataframe tbody tr th:only-of-type {\n",
              "        vertical-align: middle;\n",
              "    }\n",
              "\n",
              "    .dataframe tbody tr th {\n",
              "        vertical-align: top;\n",
              "    }\n",
              "\n",
              "    .dataframe thead th {\n",
              "        text-align: right;\n",
              "    }\n",
              "</style>\n",
              "<table border=\"1\" class=\"dataframe\">\n",
              "  <thead>\n",
              "    <tr style=\"text-align: right;\">\n",
              "      <th></th>\n",
              "      <th>Food</th>\n",
              "      <th>Value</th>\n",
              "      <th>Calories</th>\n",
              "    </tr>\n",
              "  </thead>\n",
              "  <tbody>\n",
              "    <tr>\n",
              "      <th>0</th>\n",
              "      <td>wine</td>\n",
              "      <td>89</td>\n",
              "      <td>123</td>\n",
              "    </tr>\n",
              "    <tr>\n",
              "      <th>1</th>\n",
              "      <td>beer</td>\n",
              "      <td>90</td>\n",
              "      <td>154</td>\n",
              "    </tr>\n",
              "    <tr>\n",
              "      <th>2</th>\n",
              "      <td>pizza</td>\n",
              "      <td>30</td>\n",
              "      <td>258</td>\n",
              "    </tr>\n",
              "    <tr>\n",
              "      <th>3</th>\n",
              "      <td>burger</td>\n",
              "      <td>50</td>\n",
              "      <td>354</td>\n",
              "    </tr>\n",
              "    <tr>\n",
              "      <th>4</th>\n",
              "      <td>fries</td>\n",
              "      <td>90</td>\n",
              "      <td>365</td>\n",
              "    </tr>\n",
              "    <tr>\n",
              "      <th>5</th>\n",
              "      <td>coke</td>\n",
              "      <td>79</td>\n",
              "      <td>150</td>\n",
              "    </tr>\n",
              "    <tr>\n",
              "      <th>6</th>\n",
              "      <td>apple</td>\n",
              "      <td>90</td>\n",
              "      <td>95</td>\n",
              "    </tr>\n",
              "    <tr>\n",
              "      <th>7</th>\n",
              "      <td>donut</td>\n",
              "      <td>10</td>\n",
              "      <td>195</td>\n",
              "    </tr>\n",
              "  </tbody>\n",
              "</table>\n",
              "</div>\n",
              "    <div class=\"colab-df-buttons\">\n",
              "\n",
              "  <div class=\"colab-df-container\">\n",
              "    <button class=\"colab-df-convert\" onclick=\"convertToInteractive('df-007352b7-968a-4142-a39a-a0413fc6f79c')\"\n",
              "            title=\"Convert this dataframe to an interactive table.\"\n",
              "            style=\"display:none;\">\n",
              "\n",
              "  <svg xmlns=\"http://www.w3.org/2000/svg\" height=\"24px\" viewBox=\"0 -960 960 960\">\n",
              "    <path d=\"M120-120v-720h720v720H120Zm60-500h600v-160H180v160Zm220 220h160v-160H400v160Zm0 220h160v-160H400v160ZM180-400h160v-160H180v160Zm440 0h160v-160H620v160ZM180-180h160v-160H180v160Zm440 0h160v-160H620v160Z\"/>\n",
              "  </svg>\n",
              "    </button>\n",
              "\n",
              "  <style>\n",
              "    .colab-df-container {\n",
              "      display:flex;\n",
              "      gap: 12px;\n",
              "    }\n",
              "\n",
              "    .colab-df-convert {\n",
              "      background-color: #E8F0FE;\n",
              "      border: none;\n",
              "      border-radius: 50%;\n",
              "      cursor: pointer;\n",
              "      display: none;\n",
              "      fill: #1967D2;\n",
              "      height: 32px;\n",
              "      padding: 0 0 0 0;\n",
              "      width: 32px;\n",
              "    }\n",
              "\n",
              "    .colab-df-convert:hover {\n",
              "      background-color: #E2EBFA;\n",
              "      box-shadow: 0px 1px 2px rgba(60, 64, 67, 0.3), 0px 1px 3px 1px rgba(60, 64, 67, 0.15);\n",
              "      fill: #174EA6;\n",
              "    }\n",
              "\n",
              "    .colab-df-buttons div {\n",
              "      margin-bottom: 4px;\n",
              "    }\n",
              "\n",
              "    [theme=dark] .colab-df-convert {\n",
              "      background-color: #3B4455;\n",
              "      fill: #D2E3FC;\n",
              "    }\n",
              "\n",
              "    [theme=dark] .colab-df-convert:hover {\n",
              "      background-color: #434B5C;\n",
              "      box-shadow: 0px 1px 3px 1px rgba(0, 0, 0, 0.15);\n",
              "      filter: drop-shadow(0px 1px 2px rgba(0, 0, 0, 0.3));\n",
              "      fill: #FFFFFF;\n",
              "    }\n",
              "  </style>\n",
              "\n",
              "    <script>\n",
              "      const buttonEl =\n",
              "        document.querySelector('#df-007352b7-968a-4142-a39a-a0413fc6f79c button.colab-df-convert');\n",
              "      buttonEl.style.display =\n",
              "        google.colab.kernel.accessAllowed ? 'block' : 'none';\n",
              "\n",
              "      async function convertToInteractive(key) {\n",
              "        const element = document.querySelector('#df-007352b7-968a-4142-a39a-a0413fc6f79c');\n",
              "        const dataTable =\n",
              "          await google.colab.kernel.invokeFunction('convertToInteractive',\n",
              "                                                    [key], {});\n",
              "        if (!dataTable) return;\n",
              "\n",
              "        const docLinkHtml = 'Like what you see? Visit the ' +\n",
              "          '<a target=\"_blank\" href=https://colab.research.google.com/notebooks/data_table.ipynb>data table notebook</a>'\n",
              "          + ' to learn more about interactive tables.';\n",
              "        element.innerHTML = '';\n",
              "        dataTable['output_type'] = 'display_data';\n",
              "        await google.colab.output.renderOutput(dataTable, element);\n",
              "        const docLink = document.createElement('div');\n",
              "        docLink.innerHTML = docLinkHtml;\n",
              "        element.appendChild(docLink);\n",
              "      }\n",
              "    </script>\n",
              "  </div>\n",
              "\n",
              "\n",
              "<div id=\"df-9093ae07-20f8-44a7-9b3c-c001dbab2db6\">\n",
              "  <button class=\"colab-df-quickchart\" onclick=\"quickchart('df-9093ae07-20f8-44a7-9b3c-c001dbab2db6')\"\n",
              "            title=\"Suggest charts\"\n",
              "            style=\"display:none;\">\n",
              "\n",
              "<svg xmlns=\"http://www.w3.org/2000/svg\" height=\"24px\"viewBox=\"0 0 24 24\"\n",
              "     width=\"24px\">\n",
              "    <g>\n",
              "        <path d=\"M19 3H5c-1.1 0-2 .9-2 2v14c0 1.1.9 2 2 2h14c1.1 0 2-.9 2-2V5c0-1.1-.9-2-2-2zM9 17H7v-7h2v7zm4 0h-2V7h2v10zm4 0h-2v-4h2v4z\"/>\n",
              "    </g>\n",
              "</svg>\n",
              "  </button>\n",
              "\n",
              "<style>\n",
              "  .colab-df-quickchart {\n",
              "      --bg-color: #E8F0FE;\n",
              "      --fill-color: #1967D2;\n",
              "      --hover-bg-color: #E2EBFA;\n",
              "      --hover-fill-color: #174EA6;\n",
              "      --disabled-fill-color: #AAA;\n",
              "      --disabled-bg-color: #DDD;\n",
              "  }\n",
              "\n",
              "  [theme=dark] .colab-df-quickchart {\n",
              "      --bg-color: #3B4455;\n",
              "      --fill-color: #D2E3FC;\n",
              "      --hover-bg-color: #434B5C;\n",
              "      --hover-fill-color: #FFFFFF;\n",
              "      --disabled-bg-color: #3B4455;\n",
              "      --disabled-fill-color: #666;\n",
              "  }\n",
              "\n",
              "  .colab-df-quickchart {\n",
              "    background-color: var(--bg-color);\n",
              "    border: none;\n",
              "    border-radius: 50%;\n",
              "    cursor: pointer;\n",
              "    display: none;\n",
              "    fill: var(--fill-color);\n",
              "    height: 32px;\n",
              "    padding: 0;\n",
              "    width: 32px;\n",
              "  }\n",
              "\n",
              "  .colab-df-quickchart:hover {\n",
              "    background-color: var(--hover-bg-color);\n",
              "    box-shadow: 0 1px 2px rgba(60, 64, 67, 0.3), 0 1px 3px 1px rgba(60, 64, 67, 0.15);\n",
              "    fill: var(--button-hover-fill-color);\n",
              "  }\n",
              "\n",
              "  .colab-df-quickchart-complete:disabled,\n",
              "  .colab-df-quickchart-complete:disabled:hover {\n",
              "    background-color: var(--disabled-bg-color);\n",
              "    fill: var(--disabled-fill-color);\n",
              "    box-shadow: none;\n",
              "  }\n",
              "\n",
              "  .colab-df-spinner {\n",
              "    border: 2px solid var(--fill-color);\n",
              "    border-color: transparent;\n",
              "    border-bottom-color: var(--fill-color);\n",
              "    animation:\n",
              "      spin 1s steps(1) infinite;\n",
              "  }\n",
              "\n",
              "  @keyframes spin {\n",
              "    0% {\n",
              "      border-color: transparent;\n",
              "      border-bottom-color: var(--fill-color);\n",
              "      border-left-color: var(--fill-color);\n",
              "    }\n",
              "    20% {\n",
              "      border-color: transparent;\n",
              "      border-left-color: var(--fill-color);\n",
              "      border-top-color: var(--fill-color);\n",
              "    }\n",
              "    30% {\n",
              "      border-color: transparent;\n",
              "      border-left-color: var(--fill-color);\n",
              "      border-top-color: var(--fill-color);\n",
              "      border-right-color: var(--fill-color);\n",
              "    }\n",
              "    40% {\n",
              "      border-color: transparent;\n",
              "      border-right-color: var(--fill-color);\n",
              "      border-top-color: var(--fill-color);\n",
              "    }\n",
              "    60% {\n",
              "      border-color: transparent;\n",
              "      border-right-color: var(--fill-color);\n",
              "    }\n",
              "    80% {\n",
              "      border-color: transparent;\n",
              "      border-right-color: var(--fill-color);\n",
              "      border-bottom-color: var(--fill-color);\n",
              "    }\n",
              "    90% {\n",
              "      border-color: transparent;\n",
              "      border-bottom-color: var(--fill-color);\n",
              "    }\n",
              "  }\n",
              "</style>\n",
              "\n",
              "  <script>\n",
              "    async function quickchart(key) {\n",
              "      const quickchartButtonEl =\n",
              "        document.querySelector('#' + key + ' button');\n",
              "      quickchartButtonEl.disabled = true;  // To prevent multiple clicks.\n",
              "      quickchartButtonEl.classList.add('colab-df-spinner');\n",
              "      try {\n",
              "        const charts = await google.colab.kernel.invokeFunction(\n",
              "            'suggestCharts', [key], {});\n",
              "      } catch (error) {\n",
              "        console.error('Error during call to suggestCharts:', error);\n",
              "      }\n",
              "      quickchartButtonEl.classList.remove('colab-df-spinner');\n",
              "      quickchartButtonEl.classList.add('colab-df-quickchart-complete');\n",
              "    }\n",
              "    (() => {\n",
              "      let quickchartButtonEl =\n",
              "        document.querySelector('#df-9093ae07-20f8-44a7-9b3c-c001dbab2db6 button');\n",
              "      quickchartButtonEl.style.display =\n",
              "        google.colab.kernel.accessAllowed ? 'block' : 'none';\n",
              "    })();\n",
              "  </script>\n",
              "</div>\n",
              "    </div>\n",
              "  </div>\n"
            ],
            "application/vnd.google.colaboratory.intrinsic+json": {
              "type": "dataframe",
              "variable_name": "data",
              "summary": "{\n  \"name\": \"data\",\n  \"rows\": 8,\n  \"fields\": [\n    {\n      \"column\": \"Food\",\n      \"properties\": {\n        \"dtype\": \"string\",\n        \"num_unique_values\": 8,\n        \"samples\": [\n          \"beer\",\n          \"coke\",\n          \"wine\"\n        ],\n        \"semantic_type\": \"\",\n        \"description\": \"\"\n      }\n    },\n    {\n      \"column\": \"Value\",\n      \"properties\": {\n        \"dtype\": \"number\",\n        \"std\": 31,\n        \"min\": 10,\n        \"max\": 90,\n        \"num_unique_values\": 6,\n        \"samples\": [\n          89,\n          90,\n          10\n        ],\n        \"semantic_type\": \"\",\n        \"description\": \"\"\n      }\n    },\n    {\n      \"column\": \"Calories\",\n      \"properties\": {\n        \"dtype\": \"number\",\n        \"std\": 103,\n        \"min\": 95,\n        \"max\": 365,\n        \"num_unique_values\": 8,\n        \"samples\": [\n          154,\n          150,\n          123\n        ],\n        \"semantic_type\": \"\",\n        \"description\": \"\"\n      }\n    }\n  ]\n}"
            }
          },
          "metadata": {},
          "execution_count": 5
        }
      ],
      "source": [
        "# Display the data\n",
        "# head() displays a default 5 elements. To view all, pass the total number of elements\n",
        "data.head(len(data))"
      ]
    },
    {
      "cell_type": "code",
      "execution_count": 6,
      "metadata": {
        "colab": {
          "base_uri": "https://localhost:8080/",
          "height": 300
        },
        "id": "WNVzUjPn-g9V",
        "outputId": "cbb1b68d-852f-426d-cb95-001ecb8dba63"
      },
      "outputs": [
        {
          "output_type": "execute_result",
          "data": {
            "text/plain": [
              "           Value    Calories\n",
              "count   8.000000    8.000000\n",
              "mean   66.000000  211.750000\n",
              "std    31.879236  103.368619\n",
              "min    10.000000   95.000000\n",
              "25%    45.000000  143.250000\n",
              "50%    84.000000  174.500000\n",
              "75%    90.000000  282.000000\n",
              "max    90.000000  365.000000"
            ],
            "text/html": [
              "\n",
              "  <div id=\"df-745e042b-ed01-4009-a2ad-0ee2ed2062b9\" class=\"colab-df-container\">\n",
              "    <div>\n",
              "<style scoped>\n",
              "    .dataframe tbody tr th:only-of-type {\n",
              "        vertical-align: middle;\n",
              "    }\n",
              "\n",
              "    .dataframe tbody tr th {\n",
              "        vertical-align: top;\n",
              "    }\n",
              "\n",
              "    .dataframe thead th {\n",
              "        text-align: right;\n",
              "    }\n",
              "</style>\n",
              "<table border=\"1\" class=\"dataframe\">\n",
              "  <thead>\n",
              "    <tr style=\"text-align: right;\">\n",
              "      <th></th>\n",
              "      <th>Value</th>\n",
              "      <th>Calories</th>\n",
              "    </tr>\n",
              "  </thead>\n",
              "  <tbody>\n",
              "    <tr>\n",
              "      <th>count</th>\n",
              "      <td>8.000000</td>\n",
              "      <td>8.000000</td>\n",
              "    </tr>\n",
              "    <tr>\n",
              "      <th>mean</th>\n",
              "      <td>66.000000</td>\n",
              "      <td>211.750000</td>\n",
              "    </tr>\n",
              "    <tr>\n",
              "      <th>std</th>\n",
              "      <td>31.879236</td>\n",
              "      <td>103.368619</td>\n",
              "    </tr>\n",
              "    <tr>\n",
              "      <th>min</th>\n",
              "      <td>10.000000</td>\n",
              "      <td>95.000000</td>\n",
              "    </tr>\n",
              "    <tr>\n",
              "      <th>25%</th>\n",
              "      <td>45.000000</td>\n",
              "      <td>143.250000</td>\n",
              "    </tr>\n",
              "    <tr>\n",
              "      <th>50%</th>\n",
              "      <td>84.000000</td>\n",
              "      <td>174.500000</td>\n",
              "    </tr>\n",
              "    <tr>\n",
              "      <th>75%</th>\n",
              "      <td>90.000000</td>\n",
              "      <td>282.000000</td>\n",
              "    </tr>\n",
              "    <tr>\n",
              "      <th>max</th>\n",
              "      <td>90.000000</td>\n",
              "      <td>365.000000</td>\n",
              "    </tr>\n",
              "  </tbody>\n",
              "</table>\n",
              "</div>\n",
              "    <div class=\"colab-df-buttons\">\n",
              "\n",
              "  <div class=\"colab-df-container\">\n",
              "    <button class=\"colab-df-convert\" onclick=\"convertToInteractive('df-745e042b-ed01-4009-a2ad-0ee2ed2062b9')\"\n",
              "            title=\"Convert this dataframe to an interactive table.\"\n",
              "            style=\"display:none;\">\n",
              "\n",
              "  <svg xmlns=\"http://www.w3.org/2000/svg\" height=\"24px\" viewBox=\"0 -960 960 960\">\n",
              "    <path d=\"M120-120v-720h720v720H120Zm60-500h600v-160H180v160Zm220 220h160v-160H400v160Zm0 220h160v-160H400v160ZM180-400h160v-160H180v160Zm440 0h160v-160H620v160ZM180-180h160v-160H180v160Zm440 0h160v-160H620v160Z\"/>\n",
              "  </svg>\n",
              "    </button>\n",
              "\n",
              "  <style>\n",
              "    .colab-df-container {\n",
              "      display:flex;\n",
              "      gap: 12px;\n",
              "    }\n",
              "\n",
              "    .colab-df-convert {\n",
              "      background-color: #E8F0FE;\n",
              "      border: none;\n",
              "      border-radius: 50%;\n",
              "      cursor: pointer;\n",
              "      display: none;\n",
              "      fill: #1967D2;\n",
              "      height: 32px;\n",
              "      padding: 0 0 0 0;\n",
              "      width: 32px;\n",
              "    }\n",
              "\n",
              "    .colab-df-convert:hover {\n",
              "      background-color: #E2EBFA;\n",
              "      box-shadow: 0px 1px 2px rgba(60, 64, 67, 0.3), 0px 1px 3px 1px rgba(60, 64, 67, 0.15);\n",
              "      fill: #174EA6;\n",
              "    }\n",
              "\n",
              "    .colab-df-buttons div {\n",
              "      margin-bottom: 4px;\n",
              "    }\n",
              "\n",
              "    [theme=dark] .colab-df-convert {\n",
              "      background-color: #3B4455;\n",
              "      fill: #D2E3FC;\n",
              "    }\n",
              "\n",
              "    [theme=dark] .colab-df-convert:hover {\n",
              "      background-color: #434B5C;\n",
              "      box-shadow: 0px 1px 3px 1px rgba(0, 0, 0, 0.15);\n",
              "      filter: drop-shadow(0px 1px 2px rgba(0, 0, 0, 0.3));\n",
              "      fill: #FFFFFF;\n",
              "    }\n",
              "  </style>\n",
              "\n",
              "    <script>\n",
              "      const buttonEl =\n",
              "        document.querySelector('#df-745e042b-ed01-4009-a2ad-0ee2ed2062b9 button.colab-df-convert');\n",
              "      buttonEl.style.display =\n",
              "        google.colab.kernel.accessAllowed ? 'block' : 'none';\n",
              "\n",
              "      async function convertToInteractive(key) {\n",
              "        const element = document.querySelector('#df-745e042b-ed01-4009-a2ad-0ee2ed2062b9');\n",
              "        const dataTable =\n",
              "          await google.colab.kernel.invokeFunction('convertToInteractive',\n",
              "                                                    [key], {});\n",
              "        if (!dataTable) return;\n",
              "\n",
              "        const docLinkHtml = 'Like what you see? Visit the ' +\n",
              "          '<a target=\"_blank\" href=https://colab.research.google.com/notebooks/data_table.ipynb>data table notebook</a>'\n",
              "          + ' to learn more about interactive tables.';\n",
              "        element.innerHTML = '';\n",
              "        dataTable['output_type'] = 'display_data';\n",
              "        await google.colab.output.renderOutput(dataTable, element);\n",
              "        const docLink = document.createElement('div');\n",
              "        docLink.innerHTML = docLinkHtml;\n",
              "        element.appendChild(docLink);\n",
              "      }\n",
              "    </script>\n",
              "  </div>\n",
              "\n",
              "\n",
              "<div id=\"df-e1adc8c2-a72b-4366-b1ef-c0f4cf7d005b\">\n",
              "  <button class=\"colab-df-quickchart\" onclick=\"quickchart('df-e1adc8c2-a72b-4366-b1ef-c0f4cf7d005b')\"\n",
              "            title=\"Suggest charts\"\n",
              "            style=\"display:none;\">\n",
              "\n",
              "<svg xmlns=\"http://www.w3.org/2000/svg\" height=\"24px\"viewBox=\"0 0 24 24\"\n",
              "     width=\"24px\">\n",
              "    <g>\n",
              "        <path d=\"M19 3H5c-1.1 0-2 .9-2 2v14c0 1.1.9 2 2 2h14c1.1 0 2-.9 2-2V5c0-1.1-.9-2-2-2zM9 17H7v-7h2v7zm4 0h-2V7h2v10zm4 0h-2v-4h2v4z\"/>\n",
              "    </g>\n",
              "</svg>\n",
              "  </button>\n",
              "\n",
              "<style>\n",
              "  .colab-df-quickchart {\n",
              "      --bg-color: #E8F0FE;\n",
              "      --fill-color: #1967D2;\n",
              "      --hover-bg-color: #E2EBFA;\n",
              "      --hover-fill-color: #174EA6;\n",
              "      --disabled-fill-color: #AAA;\n",
              "      --disabled-bg-color: #DDD;\n",
              "  }\n",
              "\n",
              "  [theme=dark] .colab-df-quickchart {\n",
              "      --bg-color: #3B4455;\n",
              "      --fill-color: #D2E3FC;\n",
              "      --hover-bg-color: #434B5C;\n",
              "      --hover-fill-color: #FFFFFF;\n",
              "      --disabled-bg-color: #3B4455;\n",
              "      --disabled-fill-color: #666;\n",
              "  }\n",
              "\n",
              "  .colab-df-quickchart {\n",
              "    background-color: var(--bg-color);\n",
              "    border: none;\n",
              "    border-radius: 50%;\n",
              "    cursor: pointer;\n",
              "    display: none;\n",
              "    fill: var(--fill-color);\n",
              "    height: 32px;\n",
              "    padding: 0;\n",
              "    width: 32px;\n",
              "  }\n",
              "\n",
              "  .colab-df-quickchart:hover {\n",
              "    background-color: var(--hover-bg-color);\n",
              "    box-shadow: 0 1px 2px rgba(60, 64, 67, 0.3), 0 1px 3px 1px rgba(60, 64, 67, 0.15);\n",
              "    fill: var(--button-hover-fill-color);\n",
              "  }\n",
              "\n",
              "  .colab-df-quickchart-complete:disabled,\n",
              "  .colab-df-quickchart-complete:disabled:hover {\n",
              "    background-color: var(--disabled-bg-color);\n",
              "    fill: var(--disabled-fill-color);\n",
              "    box-shadow: none;\n",
              "  }\n",
              "\n",
              "  .colab-df-spinner {\n",
              "    border: 2px solid var(--fill-color);\n",
              "    border-color: transparent;\n",
              "    border-bottom-color: var(--fill-color);\n",
              "    animation:\n",
              "      spin 1s steps(1) infinite;\n",
              "  }\n",
              "\n",
              "  @keyframes spin {\n",
              "    0% {\n",
              "      border-color: transparent;\n",
              "      border-bottom-color: var(--fill-color);\n",
              "      border-left-color: var(--fill-color);\n",
              "    }\n",
              "    20% {\n",
              "      border-color: transparent;\n",
              "      border-left-color: var(--fill-color);\n",
              "      border-top-color: var(--fill-color);\n",
              "    }\n",
              "    30% {\n",
              "      border-color: transparent;\n",
              "      border-left-color: var(--fill-color);\n",
              "      border-top-color: var(--fill-color);\n",
              "      border-right-color: var(--fill-color);\n",
              "    }\n",
              "    40% {\n",
              "      border-color: transparent;\n",
              "      border-right-color: var(--fill-color);\n",
              "      border-top-color: var(--fill-color);\n",
              "    }\n",
              "    60% {\n",
              "      border-color: transparent;\n",
              "      border-right-color: var(--fill-color);\n",
              "    }\n",
              "    80% {\n",
              "      border-color: transparent;\n",
              "      border-right-color: var(--fill-color);\n",
              "      border-bottom-color: var(--fill-color);\n",
              "    }\n",
              "    90% {\n",
              "      border-color: transparent;\n",
              "      border-bottom-color: var(--fill-color);\n",
              "    }\n",
              "  }\n",
              "</style>\n",
              "\n",
              "  <script>\n",
              "    async function quickchart(key) {\n",
              "      const quickchartButtonEl =\n",
              "        document.querySelector('#' + key + ' button');\n",
              "      quickchartButtonEl.disabled = true;  // To prevent multiple clicks.\n",
              "      quickchartButtonEl.classList.add('colab-df-spinner');\n",
              "      try {\n",
              "        const charts = await google.colab.kernel.invokeFunction(\n",
              "            'suggestCharts', [key], {});\n",
              "      } catch (error) {\n",
              "        console.error('Error during call to suggestCharts:', error);\n",
              "      }\n",
              "      quickchartButtonEl.classList.remove('colab-df-spinner');\n",
              "      quickchartButtonEl.classList.add('colab-df-quickchart-complete');\n",
              "    }\n",
              "    (() => {\n",
              "      let quickchartButtonEl =\n",
              "        document.querySelector('#df-e1adc8c2-a72b-4366-b1ef-c0f4cf7d005b button');\n",
              "      quickchartButtonEl.style.display =\n",
              "        google.colab.kernel.accessAllowed ? 'block' : 'none';\n",
              "    })();\n",
              "  </script>\n",
              "</div>\n",
              "    </div>\n",
              "  </div>\n"
            ],
            "application/vnd.google.colaboratory.intrinsic+json": {
              "type": "dataframe",
              "summary": "{\n  \"name\": \"data\",\n  \"rows\": 8,\n  \"fields\": [\n    {\n      \"column\": \"Value\",\n      \"properties\": {\n        \"dtype\": \"number\",\n        \"std\": 34.334468358878276,\n        \"min\": 8.0,\n        \"max\": 90.0,\n        \"num_unique_values\": 7,\n        \"samples\": [\n          8.0,\n          66.0,\n          84.0\n        ],\n        \"semantic_type\": \"\",\n        \"description\": \"\"\n      }\n    },\n    {\n      \"column\": \"Calories\",\n      \"properties\": {\n        \"dtype\": \"number\",\n        \"std\": 112.94198522998649,\n        \"min\": 8.0,\n        \"max\": 365.0,\n        \"num_unique_values\": 8,\n        \"samples\": [\n          211.75,\n          174.5,\n          8.0\n        ],\n        \"semantic_type\": \"\",\n        \"description\": \"\"\n      }\n    }\n  ]\n}"
            }
          },
          "metadata": {},
          "execution_count": 6
        }
      ],
      "source": [
        "# Compute some descriptive statistics\n",
        "data.describe()"
      ]
    },
    {
      "cell_type": "code",
      "execution_count": null,
      "metadata": {
        "collapsed": true,
        "id": "uPUVlnn1-g9W"
      },
      "outputs": [],
      "source": [
        "# Plot (because why not)\n",
        "%matplotlib inline\n",
        "import matplotlib.pyplot as plt\n",
        "# Set style\n",
        "import matplotlib\n",
        "matplotlib.style.use('ggplot')"
      ]
    },
    {
      "cell_type": "code",
      "execution_count": 7,
      "metadata": {
        "colab": {
          "base_uri": "https://localhost:8080/",
          "height": 499
        },
        "id": "oRhsE7oH-g9X",
        "outputId": "a6c903f8-d976-4eba-e34d-85ba92622e8c"
      },
      "outputs": [
        {
          "output_type": "execute_result",
          "data": {
            "text/plain": [
              "<Axes: xlabel='Food'>"
            ]
          },
          "metadata": {},
          "execution_count": 7
        },
        {
          "output_type": "display_data",
          "data": {
            "text/plain": [
              "<Figure size 640x480 with 1 Axes>"
            ],
            "image/png": "[encoded data removed]"
          },
          "metadata": {}
        }
      ],
      "source": [
        "data.plot(kind=\"bar\", x=\"Food\")"
      ]
    },
    {
      "cell_type": "markdown",
      "metadata": {
        "id": "tAmV4J0Q-g9X"
      },
      "source": [
        "---\n",
        "## B) Tackling the Problem\n",
        "\n",
        "The objective is to find the set of menu items with the highest value while still amounting to less than or equal to 750 calories.  \n",
        "\n",
        "For instance, Dave could pick:\n",
        "- wine\n",
        "- burger\n",
        "- donut\n",
        "\n",
        "Which has a total value of 234 and a total cost of 476 calories. This is a valid choice, but is not optimal.\n"
      ]
    },
    {
      "cell_type": "markdown",
      "source": [
        "### Finding an Optimal Solution\n",
        "\n",
        "Finding an optimal solution is straightforward:\n",
        "\n",
        "1. Gather all possible sets of items\n",
        "\n",
        "2. Eliminate invalid sets (i.e. sets with calorie counts larger than 750)\n",
        "\n",
        "3. Sort the sets by value\n",
        "\n",
        "4. The first set in the sorted list of sets is the optimal solution\n"
      ],
      "metadata": {
        "id": "b9ynu82QBtz1"
      }
    },
    {
      "cell_type": "markdown",
      "source": [
        "### Implementation\n",
        "\n",
        "Note: I am not familar enough with Pandas to use it properly, so I'm going to convert the data into a regular Python list."
      ],
      "metadata": {
        "id": "bfL2MEaaByri"
      }
    },
    {
      "cell_type": "code",
      "execution_count": 8,
      "metadata": {
        "colab": {
          "base_uri": "https://localhost:8080/"
        },
        "id": "wa8Wk8rh-g9Y",
        "outputId": "f3b509d6-6555-468b-ae1d-13f5a489f6b4"
      },
      "outputs": [
        {
          "output_type": "execute_result",
          "data": {
            "text/plain": [
              "[['wine', 89, 123],\n",
              " ['beer', 90, 154],\n",
              " ['pizza', 30, 258],\n",
              " ['burger', 50, 354],\n",
              " ['fries', 90, 365],\n",
              " ['coke', 79, 150],\n",
              " ['apple', 90, 95],\n",
              " ['donut', 10, 195]]"
            ]
          },
          "metadata": {},
          "execution_count": 8
        }
      ],
      "source": [
        "menu = data.values.tolist()\n",
        "menu"
      ]
    },
    {
      "cell_type": "code",
      "execution_count": 9,
      "metadata": {
        "collapsed": true,
        "id": "nA-FAtEk-g9Z"
      },
      "outputs": [],
      "source": [
        "# Set constant\n",
        "CALORIE_LIMIT = 750"
      ]
    },
    {
      "cell_type": "code",
      "execution_count": 10,
      "metadata": {
        "collapsed": true,
        "id": "TIRRL7VS-g9Z"
      },
      "outputs": [],
      "source": [
        "# Binary Powerset Algorithm\n",
        "def power_set(set_):\n",
        "    power_set = []\n",
        "\n",
        "    power_cardinality = 2**len(set_)\n",
        "\n",
        "    # the number of binary digits needed\n",
        "    digit_count = len(set_)\n",
        "\n",
        "    # setting up the formatting\n",
        "    format_spec = '0' + str(digit_count) + 'b'\n",
        "\n",
        "    for n in range(power_cardinality):\n",
        "        subset = []\n",
        "\n",
        "        binary_n = format(n, format_spec)\n",
        "\n",
        "        # for every character in a binary number\n",
        "        for i, char in enumerate(binary_n):\n",
        "            if char == '1':\n",
        "                # when char is 1, the element in set_ with matching index is present in the subset\n",
        "                subset.append(set_[i])\n",
        "\n",
        "        power_set.append(subset)\n",
        "\n",
        "    return power_set"
      ]
    },
    {
      "cell_type": "code",
      "execution_count": 16,
      "metadata": {
        "colab": {
          "base_uri": "https://localhost:8080/"
        },
        "id": "5rxTxCQR-g9a",
        "outputId": "2ad5b0f6-9312-4e0d-fa7c-99db8d7c30dd"
      },
      "outputs": [
        {
          "output_type": "execute_result",
          "data": {
            "text/plain": [
              "256"
            ]
          },
          "metadata": {},
          "execution_count": 16
        }
      ],
      "source": [
        "# The powerset is the list of all possible sets of items\n",
        "menu_power = power_set(menu)\n",
        "\n",
        "len(menu_power)"
      ]
    },
    {
      "cell_type": "code",
      "source": [
        "# Head list elements of the power set\n",
        "menu_power[:20]"
      ],
      "metadata": {
        "colab": {
          "base_uri": "https://localhost:8080/"
        },
        "id": "6jWSufCDCZ9F",
        "outputId": "a500349e-317e-4d92-8342-2d450c69a515"
      },
      "execution_count": 17,
      "outputs": [
        {
          "output_type": "execute_result",
          "data": {
            "text/plain": [
              "[[],\n",
              " [['donut', 10, 195]],\n",
              " [['apple', 90, 95]],\n",
              " [['apple', 90, 95], ['donut', 10, 195]],\n",
              " [['coke', 79, 150]],\n",
              " [['coke', 79, 150], ['donut', 10, 195]],\n",
              " [['coke', 79, 150], ['apple', 90, 95]],\n",
              " [['coke', 79, 150], ['apple', 90, 95], ['donut', 10, 195]],\n",
              " [['fries', 90, 365]],\n",
              " [['fries', 90, 365], ['donut', 10, 195]],\n",
              " [['fries', 90, 365], ['apple', 90, 95]],\n",
              " [['fries', 90, 365], ['apple', 90, 95], ['donut', 10, 195]],\n",
              " [['fries', 90, 365], ['coke', 79, 150]],\n",
              " [['fries', 90, 365], ['coke', 79, 150], ['donut', 10, 195]],\n",
              " [['fries', 90, 365], ['coke', 79, 150], ['apple', 90, 95]],\n",
              " [['fries', 90, 365],\n",
              "  ['coke', 79, 150],\n",
              "  ['apple', 90, 95],\n",
              "  ['donut', 10, 195]],\n",
              " [['burger', 50, 354]],\n",
              " [['burger', 50, 354], ['donut', 10, 195]],\n",
              " [['burger', 50, 354], ['apple', 90, 95]],\n",
              " [['burger', 50, 354], ['apple', 90, 95], ['donut', 10, 195]]]"
            ]
          },
          "metadata": {},
          "execution_count": 17
        }
      ]
    },
    {
      "cell_type": "code",
      "source": [
        "# Tail list elements of the power set\n",
        "menu_power[240:]"
      ],
      "metadata": {
        "colab": {
          "base_uri": "https://localhost:8080/"
        },
        "id": "ddRVTMtPCtEG",
        "outputId": "c649bff3-9a9b-4777-907e-106766a08b39"
      },
      "execution_count": 19,
      "outputs": [
        {
          "output_type": "execute_result",
          "data": {
            "text/plain": [
              "[[['wine', 89, 123],\n",
              "  ['beer', 90, 154],\n",
              "  ['pizza', 30, 258],\n",
              "  ['burger', 50, 354]],\n",
              " [['wine', 89, 123],\n",
              "  ['beer', 90, 154],\n",
              "  ['pizza', 30, 258],\n",
              "  ['burger', 50, 354],\n",
              "  ['donut', 10, 195]],\n",
              " [['wine', 89, 123],\n",
              "  ['beer', 90, 154],\n",
              "  ['pizza', 30, 258],\n",
              "  ['burger', 50, 354],\n",
              "  ['apple', 90, 95]],\n",
              " [['wine', 89, 123],\n",
              "  ['beer', 90, 154],\n",
              "  ['pizza', 30, 258],\n",
              "  ['burger', 50, 354],\n",
              "  ['apple', 90, 95],\n",
              "  ['donut', 10, 195]],\n",
              " [['wine', 89, 123],\n",
              "  ['beer', 90, 154],\n",
              "  ['pizza', 30, 258],\n",
              "  ['burger', 50, 354],\n",
              "  ['coke', 79, 150]],\n",
              " [['wine', 89, 123],\n",
              "  ['beer', 90, 154],\n",
              "  ['pizza', 30, 258],\n",
              "  ['burger', 50, 354],\n",
              "  ['coke', 79, 150],\n",
              "  ['donut', 10, 195]],\n",
              " [['wine', 89, 123],\n",
              "  ['beer', 90, 154],\n",
              "  ['pizza', 30, 258],\n",
              "  ['burger', 50, 354],\n",
              "  ['coke', 79, 150],\n",
              "  ['apple', 90, 95]],\n",
              " [['wine', 89, 123],\n",
              "  ['beer', 90, 154],\n",
              "  ['pizza', 30, 258],\n",
              "  ['burger', 50, 354],\n",
              "  ['coke', 79, 150],\n",
              "  ['apple', 90, 95],\n",
              "  ['donut', 10, 195]],\n",
              " [['wine', 89, 123],\n",
              "  ['beer', 90, 154],\n",
              "  ['pizza', 30, 258],\n",
              "  ['burger', 50, 354],\n",
              "  ['fries', 90, 365]],\n",
              " [['wine', 89, 123],\n",
              "  ['beer', 90, 154],\n",
              "  ['pizza', 30, 258],\n",
              "  ['burger', 50, 354],\n",
              "  ['fries', 90, 365],\n",
              "  ['donut', 10, 195]],\n",
              " [['wine', 89, 123],\n",
              "  ['beer', 90, 154],\n",
              "  ['pizza', 30, 258],\n",
              "  ['burger', 50, 354],\n",
              "  ['fries', 90, 365],\n",
              "  ['apple', 90, 95]],\n",
              " [['wine', 89, 123],\n",
              "  ['beer', 90, 154],\n",
              "  ['pizza', 30, 258],\n",
              "  ['burger', 50, 354],\n",
              "  ['fries', 90, 365],\n",
              "  ['apple', 90, 95],\n",
              "  ['donut', 10, 195]],\n",
              " [['wine', 89, 123],\n",
              "  ['beer', 90, 154],\n",
              "  ['pizza', 30, 258],\n",
              "  ['burger', 50, 354],\n",
              "  ['fries', 90, 365],\n",
              "  ['coke', 79, 150]],\n",
              " [['wine', 89, 123],\n",
              "  ['beer', 90, 154],\n",
              "  ['pizza', 30, 258],\n",
              "  ['burger', 50, 354],\n",
              "  ['fries', 90, 365],\n",
              "  ['coke', 79, 150],\n",
              "  ['donut', 10, 195]],\n",
              " [['wine', 89, 123],\n",
              "  ['beer', 90, 154],\n",
              "  ['pizza', 30, 258],\n",
              "  ['burger', 50, 354],\n",
              "  ['fries', 90, 365],\n",
              "  ['coke', 79, 150],\n",
              "  ['apple', 90, 95]],\n",
              " [['wine', 89, 123],\n",
              "  ['beer', 90, 154],\n",
              "  ['pizza', 30, 258],\n",
              "  ['burger', 50, 354],\n",
              "  ['fries', 90, 365],\n",
              "  ['coke', 79, 150],\n",
              "  ['apple', 90, 95],\n",
              "  ['donut', 10, 195]]]"
            ]
          },
          "metadata": {},
          "execution_count": 19
        }
      ]
    },
    {
      "cell_type": "markdown",
      "metadata": {
        "id": "8t1vqKqD-g9b"
      },
      "source": [
        "To help eliminate invalid sets, I'll write a function which calculates the sum of a given set."
      ]
    },
    {
      "cell_type": "code",
      "execution_count": 20,
      "metadata": {
        "collapsed": true,
        "id": "X-fEQyPG-g9b"
      },
      "outputs": [],
      "source": [
        "def valid_choice(choice):\n",
        "    \"\"\"(list) -> bool\n",
        "    Given a list of chosen foods, return true if their total cost exceeds CALORIE_LIMIT\"\"\"\n",
        "    total_cost = 0\n",
        "    for food in choice:\n",
        "        total_cost += food[2]\n",
        "\n",
        "    return total_cost < CALORIE_LIMIT"
      ]
    },
    {
      "cell_type": "code",
      "execution_count": 22,
      "metadata": {
        "colab": {
          "base_uri": "https://localhost:8080/"
        },
        "id": "jq8g2aYj-g9c",
        "outputId": "12e30c9f-6265-4bef-d78c-2537ab65ba58"
      },
      "outputs": [
        {
          "output_type": "execute_result",
          "data": {
            "text/plain": [
              "100"
            ]
          },
          "metadata": {},
          "execution_count": 22
        }
      ],
      "source": [
        "# Collect valid sets\n",
        "valid_choices = []\n",
        "for choice in menu_power:\n",
        "    if valid_choice(choice):\n",
        "        valid_choices.append(choice)\n",
        "\n",
        "len(valid_choices)"
      ]
    },
    {
      "cell_type": "code",
      "source": [
        "valid_choices[:20]"
      ],
      "metadata": {
        "colab": {
          "base_uri": "https://localhost:8080/"
        },
        "id": "MlDFalGxK_7r",
        "outputId": "97b2511b-d0d0-452b-c10f-5f5ba144bf28"
      },
      "execution_count": 23,
      "outputs": [
        {
          "output_type": "execute_result",
          "data": {
            "text/plain": [
              "[[],\n",
              " [['donut', 10, 195]],\n",
              " [['apple', 90, 95]],\n",
              " [['apple', 90, 95], ['donut', 10, 195]],\n",
              " [['coke', 79, 150]],\n",
              " [['coke', 79, 150], ['donut', 10, 195]],\n",
              " [['coke', 79, 150], ['apple', 90, 95]],\n",
              " [['coke', 79, 150], ['apple', 90, 95], ['donut', 10, 195]],\n",
              " [['fries', 90, 365]],\n",
              " [['fries', 90, 365], ['donut', 10, 195]],\n",
              " [['fries', 90, 365], ['apple', 90, 95]],\n",
              " [['fries', 90, 365], ['apple', 90, 95], ['donut', 10, 195]],\n",
              " [['fries', 90, 365], ['coke', 79, 150]],\n",
              " [['fries', 90, 365], ['coke', 79, 150], ['donut', 10, 195]],\n",
              " [['fries', 90, 365], ['coke', 79, 150], ['apple', 90, 95]],\n",
              " [['burger', 50, 354]],\n",
              " [['burger', 50, 354], ['donut', 10, 195]],\n",
              " [['burger', 50, 354], ['apple', 90, 95]],\n",
              " [['burger', 50, 354], ['apple', 90, 95], ['donut', 10, 195]],\n",
              " [['burger', 50, 354], ['coke', 79, 150]]]"
            ]
          },
          "metadata": {},
          "execution_count": 23
        }
      ]
    },
    {
      "cell_type": "markdown",
      "metadata": {
        "id": "bdxmcieD-g9c"
      },
      "source": [
        "To help sort the valid choices by value, I'll write a function to calculate the total value of a given choice."
      ]
    },
    {
      "cell_type": "code",
      "execution_count": 24,
      "metadata": {
        "collapsed": true,
        "id": "ipZrCJHV-g9d"
      },
      "outputs": [],
      "source": [
        "def total_value(choice):\n",
        "    \"\"\"(list) -> int\n",
        "    Given a list of foods, returns the sum of their values.\"\"\"\n",
        "    total_value = 0\n",
        "    for food in choice:\n",
        "        total_value += food[1]\n",
        "    return total_value"
      ]
    },
    {
      "cell_type": "code",
      "execution_count": 25,
      "metadata": {
        "colab": {
          "base_uri": "https://localhost:8080/"
        },
        "id": "JlcSAK85-g9d",
        "outputId": "27e1bb20-d936-4980-89c8-544250bb80eb"
      },
      "outputs": [
        {
          "output_type": "stream",
          "name": "stdout",
          "text": [
            "The optimal menu choice is [['wine', 89, 123], ['beer', 90, 154], ['fries', 90, 365], ['apple', 90, 95]]\n"
          ]
        }
      ],
      "source": [
        "sorted_choices = sorted(valid_choices, key=total_value, reverse=True)\n"
      ]
    },
    {
      "cell_type": "code",
      "execution_count": 27,
      "metadata": {
        "colab": {
          "base_uri": "https://localhost:8080/"
        },
        "id": "UUV0H8Fp-g9e",
        "outputId": "642c73de-d021-46a2-c2c0-5b02c3c98a2b"
      },
      "outputs": [
        {
          "output_type": "stream",
          "name": "stdout",
          "text": [
            "The optimal menu choice is [['wine', 89, 123], ['beer', 90, 154], ['fries', 90, 365], ['apple', 90, 95]]\n",
            "Total value: 359\n"
          ]
        }
      ],
      "source": [
        "\n",
        "print(\"The optimal menu choice is\", sorted_choices[0])\n",
        "print(\"Total value:\", total_value(sorted_choices[0]))"
      ]
    },
    {
      "cell_type": "code",
      "execution_count": 28,
      "metadata": {
        "colab": {
          "base_uri": "https://localhost:8080/"
        },
        "id": "9aDEN2Sw-g9e",
        "outputId": "cf1ba043-0f07-4eed-e1be-1aab567a4379"
      },
      "outputs": [
        {
          "output_type": "stream",
          "name": "stdout",
          "text": [
            "Total cost: 737\n"
          ]
        }
      ],
      "source": [
        "total_cost = 0\n",
        "for food in sorted_choices[0]:\n",
        "    total_cost += food[2]\n",
        "\n",
        "print(\"Total cost:\", total_cost)"
      ]
    },
    {
      "cell_type": "markdown",
      "source": [
        "> This was fun, but my implementation isn't the best. In the course, the data is converted into objects (e.g. there is a Food class). Hmm...I wonder what the best way to carry out this kind of analysis is? Maybe I'll look into this. *Moving on...*"
      ],
      "metadata": {
        "id": "L2_tagM8LdN-"
      }
    },
    {
      "cell_type": "markdown",
      "metadata": {
        "id": "Gy4PsIu9-g9f"
      },
      "source": [
        "---\n",
        "## Greedy Algorithms\n",
        "\n",
        "Finding the optimal solution is computationally expensive, just computing the powerset costs $O(2^n)$! This dataset is small enough that I can be as inefficient as I want, but this does not scale. Greedy algorithms offer a way to determine a \"good\" (but not optimal) solution in a lot less time.\n",
        "\n",
        "A greedy algorithm for the 0/1 knapsack problem is:\n",
        "\n",
        "```\n",
        "while knapsack is not full:\n",
        "    put \"best\" available item into it\n",
        "```\n",
        "\n",
        "The definition of \"best\" is up for debate. It could mean:\n",
        "\n",
        "- highest value\n",
        "- lowest cost\n",
        "- highest ratio of value to cost (value/cost)\n"
      ]
    },
    {
      "cell_type": "markdown",
      "source": [
        "### Implementation\n",
        "\n",
        "Fairly simple:\n",
        "\n",
        "1. Sort the data set by the criteria we think is \"best\"\n",
        "\n",
        "2. Loop through the sorted set, taking items until reaching the limit"
      ],
      "metadata": {
        "id": "SB-25H7DLltb"
      }
    },
    {
      "cell_type": "code",
      "execution_count": null,
      "metadata": {
        "id": "_BJy6qGh-g9g",
        "outputId": "ea2118fb-7133-4534-9308-0fbf9ec25ca4"
      },
      "outputs": [
        {
          "data": {
            "text/plain": [
              "[['wine', 89, 123],\n",
              " ['beer', 90, 154],\n",
              " ['pizza', 95, 258],\n",
              " ['burger', 100, 354],\n",
              " ['fries', 90, 365],\n",
              " ['cola', 79, 150],\n",
              " ['apple', 50, 95],\n",
              " ['donut', 10, 195]]"
            ]
          },
          "execution_count": 17,
          "metadata": {},
          "output_type": "execute_result"
        }
      ],
      "source": [
        "menu"
      ]
    },
    {
      "cell_type": "code",
      "execution_count": 29,
      "metadata": {
        "colab": {
          "base_uri": "https://localhost:8080/"
        },
        "id": "WRFNwtrF-g9h",
        "outputId": "c998259e-b831-4df8-f821-1368ca4ced41"
      },
      "outputs": [
        {
          "output_type": "execute_result",
          "data": {
            "text/plain": [
              "[['beer', 90, 154],\n",
              " ['fries', 90, 365],\n",
              " ['apple', 90, 95],\n",
              " ['wine', 89, 123],\n",
              " ['coke', 79, 150],\n",
              " ['burger', 50, 354],\n",
              " ['pizza', 30, 258],\n",
              " ['donut', 10, 195]]"
            ]
          },
          "metadata": {},
          "execution_count": 29
        }
      ],
      "source": [
        "# Sorted from highest to lowest value\n",
        "by_value = sorted(menu, key=lambda food: food[1], reverse=True)\n",
        "by_value"
      ]
    },
    {
      "cell_type": "code",
      "execution_count": 30,
      "metadata": {
        "colab": {
          "base_uri": "https://localhost:8080/"
        },
        "id": "wxzxCMTW-g9h",
        "outputId": "b6371c9f-3780-44c4-ce66-fc85ae86a310"
      },
      "outputs": [
        {
          "output_type": "execute_result",
          "data": {
            "text/plain": [
              "[['apple', 90, 95],\n",
              " ['wine', 89, 123],\n",
              " ['coke', 79, 150],\n",
              " ['beer', 90, 154],\n",
              " ['donut', 10, 195],\n",
              " ['pizza', 30, 258],\n",
              " ['burger', 50, 354],\n",
              " ['fries', 90, 365]]"
            ]
          },
          "metadata": {},
          "execution_count": 30
        }
      ],
      "source": [
        "# Sorted from smallest to largest cost\n",
        "by_cost = sorted(menu, key=lambda food: food[2])\n",
        "by_cost"
      ]
    },
    {
      "cell_type": "code",
      "execution_count": 31,
      "metadata": {
        "colab": {
          "base_uri": "https://localhost:8080/"
        },
        "id": "b-z_RbV_-g9i",
        "outputId": "662c2de8-0458-46c3-c980-d1cff5e0e305"
      },
      "outputs": [
        {
          "output_type": "execute_result",
          "data": {
            "text/plain": [
              "[['apple', 90, 95],\n",
              " ['wine', 89, 123],\n",
              " ['beer', 90, 154],\n",
              " ['coke', 79, 150],\n",
              " ['fries', 90, 365],\n",
              " ['burger', 50, 354],\n",
              " ['pizza', 30, 258],\n",
              " ['donut', 10, 195]]"
            ]
          },
          "metadata": {},
          "execution_count": 31
        }
      ],
      "source": [
        "# Sorted from greatest to least value/cost (i.e. best \"bang for your buck\")\n",
        "by_ratio = sorted(menu, key=lambda food: food[1]/food[2], reverse=True)\n",
        "by_ratio"
      ]
    },
    {
      "cell_type": "code",
      "execution_count": 32,
      "metadata": {
        "collapsed": true,
        "id": "Ytoc07xA-g9i"
      },
      "outputs": [],
      "source": [
        "def order_to_limit(menu, criteria):\n",
        "    \"\"\"(list, str) -> None\n",
        "    Given a menu, orders as many items as possible (until reaching CALORIE_LIMIT).\n",
        "    Prints the results.\"\"\"\n",
        "    cost = 0\n",
        "    value = 0\n",
        "    ordered = []\n",
        "    for food in menu:\n",
        "        f_cost = food[2]\n",
        "        f_value = food[1]\n",
        "        f_name = food[0]\n",
        "\n",
        "        # If the calorie cost + calories already consumed does not exceed limit\n",
        "        if ((cost + f_cost) < CALORIE_LIMIT):\n",
        "            # Order the food\n",
        "            cost += f_cost\n",
        "            value += f_value\n",
        "            ordered.append(f_name)\n",
        "\n",
        "    print(\"With {} criteria:\".format(criteria))\n",
        "    print(\"    food ordered:\", ordered)\n",
        "    print(\"    total calories:\", cost)\n",
        "    print(\"    total value:\", value)"
      ]
    },
    {
      "cell_type": "code",
      "execution_count": 33,
      "metadata": {
        "colab": {
          "base_uri": "https://localhost:8080/"
        },
        "id": "fCxYC3Bq-g9j",
        "outputId": "2188b245-7f21-4fe6-f047-b735160767d2"
      },
      "outputs": [
        {
          "output_type": "stream",
          "name": "stdout",
          "text": [
            "With VALUE criteria:\n",
            "    food ordered: ['beer', 'fries', 'apple', 'wine']\n",
            "    total calories: 737\n",
            "    total value: 359\n",
            "\n",
            "With COST criteria:\n",
            "    food ordered: ['apple', 'wine', 'coke', 'beer', 'donut']\n",
            "    total calories: 717\n",
            "    total value: 358\n",
            "\n",
            "With RATIO criteria:\n",
            "    food ordered: ['apple', 'wine', 'beer', 'coke', 'donut']\n",
            "    total calories: 717\n",
            "    total value: 358\n"
          ]
        }
      ],
      "source": [
        "# Run some computations, print the results\n",
        "order_to_limit(by_value, \"VALUE\")\n",
        "print()\n",
        "order_to_limit(by_cost, \"COST\")\n",
        "print()\n",
        "order_to_limit(by_ratio, \"RATIO\")"
      ]
    },
    {
      "cell_type": "markdown",
      "metadata": {
        "id": "VIx1fPev-g9j"
      },
      "source": [
        "For comparison,\n",
        "\n",
        "```\n",
        "Optimal solution:\n",
        "    food ordered: ['wine', 'beer', 'pizza', 'cola']\n",
        "    total calories: 685\n",
        "    total value: 353\n",
        "```\n",
        "\n"
      ]
    },
    {
      "cell_type": "markdown",
      "metadata": {
        "id": "Pz731Jab-g9k"
      },
      "source": [
        "Though none of the greedy results matched the optimal solution, they were close. They are also far more efficient; $O(n \\log n)$, if I'm not mistaken.\n",
        "\n",
        "> **TL;DR**: *Dave should order wine, beer, pizza, and a cola. *\n",
        ">\n",
        "> **DAVE:** \"Three drinks and a pizza isn't a meal.\"\n",
        ">\n",
        "> **SCIENTIST:** \"FOOL! You should have been more specific with your constraints!\""
      ]
    },
    {
      "cell_type": "markdown",
      "metadata": {
        "id": "O8c7aQU--g9k"
      },
      "source": [
        "<hr>\n",
        "\n",
        "# Extra Bits - Plotting the Search Space\n",
        "\n",
        "Remember the set of all possible *valid* orders? I think it would be neat to see visually.\n",
        "\n",
        "## The Data"
      ]
    },
    {
      "cell_type": "code",
      "execution_count": null,
      "metadata": {
        "id": "o7fkylHV-g9k",
        "outputId": "9d0d22bc-cf2c-4bbd-9098-7e81e494f782"
      },
      "outputs": [
        {
          "data": {
            "text/plain": [
              "[[],\n",
              " [['donut', 10, 195]],\n",
              " [['apple', 50, 95]],\n",
              " [['apple', 50, 95], ['donut', 10, 195]],\n",
              " [['cola', 79, 150]],\n",
              " [['cola', 79, 150], ['donut', 10, 195]],\n",
              " [['cola', 79, 150], ['apple', 50, 95]],\n",
              " [['cola', 79, 150], ['apple', 50, 95], ['donut', 10, 195]],\n",
              " [['fries', 90, 365]],\n",
              " [['fries', 90, 365], ['donut', 10, 195]],\n",
              " [['fries', 90, 365], ['apple', 50, 95]],\n",
              " [['fries', 90, 365], ['apple', 50, 95], ['donut', 10, 195]],\n",
              " [['fries', 90, 365], ['cola', 79, 150]],\n",
              " [['fries', 90, 365], ['cola', 79, 150], ['donut', 10, 195]],\n",
              " [['fries', 90, 365], ['cola', 79, 150], ['apple', 50, 95]],\n",
              " [['burger', 100, 354]],\n",
              " [['burger', 100, 354], ['donut', 10, 195]],\n",
              " [['burger', 100, 354], ['apple', 50, 95]],\n",
              " [['burger', 100, 354], ['apple', 50, 95], ['donut', 10, 195]],\n",
              " [['burger', 100, 354], ['cola', 79, 150]],\n",
              " [['burger', 100, 354], ['cola', 79, 150], ['donut', 10, 195]],\n",
              " [['burger', 100, 354], ['cola', 79, 150], ['apple', 50, 95]],\n",
              " [['burger', 100, 354], ['fries', 90, 365]],\n",
              " [['pizza', 95, 258]],\n",
              " [['pizza', 95, 258], ['donut', 10, 195]],\n",
              " [['pizza', 95, 258], ['apple', 50, 95]],\n",
              " [['pizza', 95, 258], ['apple', 50, 95], ['donut', 10, 195]],\n",
              " [['pizza', 95, 258], ['cola', 79, 150]],\n",
              " [['pizza', 95, 258], ['cola', 79, 150], ['donut', 10, 195]],\n",
              " [['pizza', 95, 258], ['cola', 79, 150], ['apple', 50, 95]],\n",
              " [['pizza', 95, 258],\n",
              "  ['cola', 79, 150],\n",
              "  ['apple', 50, 95],\n",
              "  ['donut', 10, 195]],\n",
              " [['pizza', 95, 258], ['fries', 90, 365]],\n",
              " [['pizza', 95, 258], ['fries', 90, 365], ['apple', 50, 95]],\n",
              " [['pizza', 95, 258], ['burger', 100, 354]],\n",
              " [['pizza', 95, 258], ['burger', 100, 354], ['apple', 50, 95]],\n",
              " [['beer', 90, 154]],\n",
              " [['beer', 90, 154], ['donut', 10, 195]],\n",
              " [['beer', 90, 154], ['apple', 50, 95]],\n",
              " [['beer', 90, 154], ['apple', 50, 95], ['donut', 10, 195]],\n",
              " [['beer', 90, 154], ['cola', 79, 150]],\n",
              " [['beer', 90, 154], ['cola', 79, 150], ['donut', 10, 195]],\n",
              " [['beer', 90, 154], ['cola', 79, 150], ['apple', 50, 95]],\n",
              " [['beer', 90, 154], ['cola', 79, 150], ['apple', 50, 95], ['donut', 10, 195]],\n",
              " [['beer', 90, 154], ['fries', 90, 365]],\n",
              " [['beer', 90, 154], ['fries', 90, 365], ['donut', 10, 195]],\n",
              " [['beer', 90, 154], ['fries', 90, 365], ['apple', 50, 95]],\n",
              " [['beer', 90, 154], ['fries', 90, 365], ['cola', 79, 150]],\n",
              " [['beer', 90, 154], ['burger', 100, 354]],\n",
              " [['beer', 90, 154], ['burger', 100, 354], ['donut', 10, 195]],\n",
              " [['beer', 90, 154], ['burger', 100, 354], ['apple', 50, 95]],\n",
              " [['beer', 90, 154], ['burger', 100, 354], ['cola', 79, 150]],\n",
              " [['beer', 90, 154], ['pizza', 95, 258]],\n",
              " [['beer', 90, 154], ['pizza', 95, 258], ['donut', 10, 195]],\n",
              " [['beer', 90, 154], ['pizza', 95, 258], ['apple', 50, 95]],\n",
              " [['beer', 90, 154],\n",
              "  ['pizza', 95, 258],\n",
              "  ['apple', 50, 95],\n",
              "  ['donut', 10, 195]],\n",
              " [['beer', 90, 154], ['pizza', 95, 258], ['cola', 79, 150]],\n",
              " [['beer', 90, 154], ['pizza', 95, 258], ['cola', 79, 150], ['apple', 50, 95]],\n",
              " [['wine', 89, 123]],\n",
              " [['wine', 89, 123], ['donut', 10, 195]],\n",
              " [['wine', 89, 123], ['apple', 50, 95]],\n",
              " [['wine', 89, 123], ['apple', 50, 95], ['donut', 10, 195]],\n",
              " [['wine', 89, 123], ['cola', 79, 150]],\n",
              " [['wine', 89, 123], ['cola', 79, 150], ['donut', 10, 195]],\n",
              " [['wine', 89, 123], ['cola', 79, 150], ['apple', 50, 95]],\n",
              " [['wine', 89, 123], ['cola', 79, 150], ['apple', 50, 95], ['donut', 10, 195]],\n",
              " [['wine', 89, 123], ['fries', 90, 365]],\n",
              " [['wine', 89, 123], ['fries', 90, 365], ['donut', 10, 195]],\n",
              " [['wine', 89, 123], ['fries', 90, 365], ['apple', 50, 95]],\n",
              " [['wine', 89, 123], ['fries', 90, 365], ['cola', 79, 150]],\n",
              " [['wine', 89, 123], ['fries', 90, 365], ['cola', 79, 150], ['apple', 50, 95]],\n",
              " [['wine', 89, 123], ['burger', 100, 354]],\n",
              " [['wine', 89, 123], ['burger', 100, 354], ['donut', 10, 195]],\n",
              " [['wine', 89, 123], ['burger', 100, 354], ['apple', 50, 95]],\n",
              " [['wine', 89, 123], ['burger', 100, 354], ['cola', 79, 150]],\n",
              " [['wine', 89, 123],\n",
              "  ['burger', 100, 354],\n",
              "  ['cola', 79, 150],\n",
              "  ['apple', 50, 95]],\n",
              " [['wine', 89, 123], ['pizza', 95, 258]],\n",
              " [['wine', 89, 123], ['pizza', 95, 258], ['donut', 10, 195]],\n",
              " [['wine', 89, 123], ['pizza', 95, 258], ['apple', 50, 95]],\n",
              " [['wine', 89, 123],\n",
              "  ['pizza', 95, 258],\n",
              "  ['apple', 50, 95],\n",
              "  ['donut', 10, 195]],\n",
              " [['wine', 89, 123], ['pizza', 95, 258], ['cola', 79, 150]],\n",
              " [['wine', 89, 123],\n",
              "  ['pizza', 95, 258],\n",
              "  ['cola', 79, 150],\n",
              "  ['donut', 10, 195]],\n",
              " [['wine', 89, 123], ['pizza', 95, 258], ['cola', 79, 150], ['apple', 50, 95]],\n",
              " [['wine', 89, 123], ['pizza', 95, 258], ['fries', 90, 365]],\n",
              " [['wine', 89, 123], ['pizza', 95, 258], ['burger', 100, 354]],\n",
              " [['wine', 89, 123], ['beer', 90, 154]],\n",
              " [['wine', 89, 123], ['beer', 90, 154], ['donut', 10, 195]],\n",
              " [['wine', 89, 123], ['beer', 90, 154], ['apple', 50, 95]],\n",
              " [['wine', 89, 123], ['beer', 90, 154], ['apple', 50, 95], ['donut', 10, 195]],\n",
              " [['wine', 89, 123], ['beer', 90, 154], ['cola', 79, 150]],\n",
              " [['wine', 89, 123], ['beer', 90, 154], ['cola', 79, 150], ['donut', 10, 195]],\n",
              " [['wine', 89, 123], ['beer', 90, 154], ['cola', 79, 150], ['apple', 50, 95]],\n",
              " [['wine', 89, 123],\n",
              "  ['beer', 90, 154],\n",
              "  ['cola', 79, 150],\n",
              "  ['apple', 50, 95],\n",
              "  ['donut', 10, 195]],\n",
              " [['wine', 89, 123], ['beer', 90, 154], ['fries', 90, 365]],\n",
              " [['wine', 89, 123], ['beer', 90, 154], ['fries', 90, 365], ['apple', 50, 95]],\n",
              " [['wine', 89, 123], ['beer', 90, 154], ['burger', 100, 354]],\n",
              " [['wine', 89, 123],\n",
              "  ['beer', 90, 154],\n",
              "  ['burger', 100, 354],\n",
              "  ['apple', 50, 95]],\n",
              " [['wine', 89, 123], ['beer', 90, 154], ['pizza', 95, 258]],\n",
              " [['wine', 89, 123],\n",
              "  ['beer', 90, 154],\n",
              "  ['pizza', 95, 258],\n",
              "  ['donut', 10, 195]],\n",
              " [['wine', 89, 123], ['beer', 90, 154], ['pizza', 95, 258], ['apple', 50, 95]],\n",
              " [['wine', 89, 123], ['beer', 90, 154], ['pizza', 95, 258], ['cola', 79, 150]]]"
            ]
          },
          "execution_count": 23,
          "metadata": {},
          "output_type": "execute_result"
        }
      ],
      "source": [
        "# From earlier\n",
        "valid_choices"
      ]
    },
    {
      "cell_type": "markdown",
      "metadata": {
        "id": "X0EtOtfT-g9l"
      },
      "source": [
        "## The Plan\n",
        "\n",
        "**x-axis**: The set ID (a meaningless number corresponding to an individual set in the list of sets).\n",
        "\n",
        "**y-axis**: Represents the numerical pleasure value for a particular set\n",
        "\n",
        "**Chart type**: Line\n",
        "\n",
        "## Data Prep\n",
        "\n",
        "So, I think I can achieve my goal by creating a list and filling each position with the total value of each list. Then convert to a pandas series. Finally, create the plot."
      ]
    },
    {
      "cell_type": "code",
      "execution_count": 34,
      "metadata": {
        "collapsed": true,
        "id": "C8KuosGL-g9l"
      },
      "outputs": [],
      "source": [
        "summed_values = []\n",
        "\n",
        "for s in valid_choices:\n",
        "    summed_values.append(total_value(s))"
      ]
    },
    {
      "cell_type": "code",
      "execution_count": 35,
      "metadata": {
        "scrolled": true,
        "colab": {
          "base_uri": "https://localhost:8080/"
        },
        "id": "CXqBb37h-g9m",
        "outputId": "17a5bce0-ef5d-461d-b320-e64228df6a18"
      },
      "outputs": [
        {
          "output_type": "execute_result",
          "data": {
            "text/plain": [
              "0       0\n",
              "1      10\n",
              "2      90\n",
              "3     100\n",
              "4      79\n",
              "     ... \n",
              "95    319\n",
              "96    209\n",
              "97    219\n",
              "98    299\n",
              "99    288\n",
              "Length: 100, dtype: int64"
            ]
          },
          "metadata": {},
          "execution_count": 35
        }
      ],
      "source": [
        "summed_values = pd.Series(summed_values)\n",
        "summed_values"
      ]
    },
    {
      "cell_type": "code",
      "execution_count": 36,
      "metadata": {
        "colab": {
          "base_uri": "https://localhost:8080/",
          "height": 466
        },
        "id": "Y1NbkoRE-g9m",
        "outputId": "ca353aab-b42d-4bd6-f32a-b364fa265ed4"
      },
      "outputs": [
        {
          "output_type": "execute_result",
          "data": {
            "text/plain": [
              "[Text(0.5, 0, 'Order #'), Text(0, 0.5, 'Total pleasure value')]"
            ]
          },
          "metadata": {},
          "execution_count": 36
        },
        {
          "output_type": "display_data",
          "data": {
            "text/plain": [
              "<Figure size 640x480 with 1 Axes>"
            ],
            "image/png": "[encoded data removed]"
          },
          "metadata": {}
        }
      ],
      "source": [
        "value_plot = summed_values.plot()\n",
        "value_plot.set(xlabel=\"Order #\", ylabel=\"Total pleasure value\")"
      ]
    },
    {
      "cell_type": "markdown",
      "metadata": {
        "id": "G7IWKRLh-g9n"
      },
      "source": [
        "Neat!\n",
        "\n",
        "## More Nonsense\n",
        "\n",
        "To get more experience with these tools, I want to do a bit more. I'm going to add total calorie cost to the plot."
      ]
    },
    {
      "cell_type": "code",
      "execution_count": 37,
      "metadata": {
        "collapsed": true,
        "id": "dAxJi-DE-g9o"
      },
      "outputs": [],
      "source": [
        "def total_cost(choice):\n",
        "    \"\"\"(list) -> int\n",
        "    Given a list of foods, returns the sum of their costs.\"\"\"\n",
        "    total_cost = 0\n",
        "    for food in choice:\n",
        "        total_cost += food[2]\n",
        "    return total_cost"
      ]
    },
    {
      "cell_type": "code",
      "execution_count": null,
      "metadata": {
        "scrolled": true,
        "id": "zGciwy6H-g9o"
      },
      "outputs": [],
      "source": [
        "summed_costs = []\n",
        "\n",
        "for s in valid_choices:\n",
        "    summed_costs.append(total_cost(s))\n",
        "\n",
        "summed_costs"
      ]
    },
    {
      "cell_type": "code",
      "execution_count": 39,
      "metadata": {
        "scrolled": true,
        "colab": {
          "base_uri": "https://localhost:8080/",
          "height": 424
        },
        "id": "GYnDy78_-g9o",
        "outputId": "28b3ca43-4ab8-4aca-9e5a-c760038b9051"
      },
      "outputs": [
        {
          "output_type": "execute_result",
          "data": {
            "text/plain": [
              "    Total pleasure  Total cost\n",
              "0                0           0\n",
              "1               10         195\n",
              "2               90          95\n",
              "3              100         290\n",
              "4               79         150\n",
              "..             ...         ...\n",
              "95             319         726\n",
              "96             209         535\n",
              "97             219         730\n",
              "98             299         630\n",
              "99             288         685\n",
              "\n",
              "[100 rows x 2 columns]"
            ],
            "text/html": [
              "\n",
              "  <div id=\"df-a15ba7e6-6d17-40f3-a2fc-f68292e78e43\" class=\"colab-df-container\">\n",
              "    <div>\n",
              "<style scoped>\n",
              "    .dataframe tbody tr th:only-of-type {\n",
              "        vertical-align: middle;\n",
              "    }\n",
              "\n",
              "    .dataframe tbody tr th {\n",
              "        vertical-align: top;\n",
              "    }\n",
              "\n",
              "    .dataframe thead th {\n",
              "        text-align: right;\n",
              "    }\n",
              "</style>\n",
              "<table border=\"1\" class=\"dataframe\">\n",
              "  <thead>\n",
              "    <tr style=\"text-align: right;\">\n",
              "      <th></th>\n",
              "      <th>Total pleasure</th>\n",
              "      <th>Total cost</th>\n",
              "    </tr>\n",
              "  </thead>\n",
              "  <tbody>\n",
              "    <tr>\n",
              "      <th>0</th>\n",
              "      <td>0</td>\n",
              "      <td>0</td>\n",
              "    </tr>\n",
              "    <tr>\n",
              "      <th>1</th>\n",
              "      <td>10</td>\n",
              "      <td>195</td>\n",
              "    </tr>\n",
              "    <tr>\n",
              "      <th>2</th>\n",
              "      <td>90</td>\n",
              "      <td>95</td>\n",
              "    </tr>\n",
              "    <tr>\n",
              "      <th>3</th>\n",
              "      <td>100</td>\n",
              "      <td>290</td>\n",
              "    </tr>\n",
              "    <tr>\n",
              "      <th>4</th>\n",
              "      <td>79</td>\n",
              "      <td>150</td>\n",
              "    </tr>\n",
              "    <tr>\n",
              "      <th>...</th>\n",
              "      <td>...</td>\n",
              "      <td>...</td>\n",
              "    </tr>\n",
              "    <tr>\n",
              "      <th>95</th>\n",
              "      <td>319</td>\n",
              "      <td>726</td>\n",
              "    </tr>\n",
              "    <tr>\n",
              "      <th>96</th>\n",
              "      <td>209</td>\n",
              "      <td>535</td>\n",
              "    </tr>\n",
              "    <tr>\n",
              "      <th>97</th>\n",
              "      <td>219</td>\n",
              "      <td>730</td>\n",
              "    </tr>\n",
              "    <tr>\n",
              "      <th>98</th>\n",
              "      <td>299</td>\n",
              "      <td>630</td>\n",
              "    </tr>\n",
              "    <tr>\n",
              "      <th>99</th>\n",
              "      <td>288</td>\n",
              "      <td>685</td>\n",
              "    </tr>\n",
              "  </tbody>\n",
              "</table>\n",
              "<p>100 rows × 2 columns</p>\n",
              "</div>\n",
              "    <div class=\"colab-df-buttons\">\n",
              "\n",
              "  <div class=\"colab-df-container\">\n",
              "    <button class=\"colab-df-convert\" onclick=\"convertToInteractive('df-a15ba7e6-6d17-40f3-a2fc-f68292e78e43')\"\n",
              "            title=\"Convert this dataframe to an interactive table.\"\n",
              "            style=\"display:none;\">\n",
              "\n",
              "  <svg xmlns=\"http://www.w3.org/2000/svg\" height=\"24px\" viewBox=\"0 -960 960 960\">\n",
              "    <path d=\"M120-120v-720h720v720H120Zm60-500h600v-160H180v160Zm220 220h160v-160H400v160Zm0 220h160v-160H400v160ZM180-400h160v-160H180v160Zm440 0h160v-160H620v160ZM180-180h160v-160H180v160Zm440 0h160v-160H620v160Z\"/>\n",
              "  </svg>\n",
              "    </button>\n",
              "\n",
              "  <style>\n",
              "    .colab-df-container {\n",
              "      display:flex;\n",
              "      gap: 12px;\n",
              "    }\n",
              "\n",
              "    .colab-df-convert {\n",
              "      background-color: #E8F0FE;\n",
              "      border: none;\n",
              "      border-radius: 50%;\n",
              "      cursor: pointer;\n",
              "      display: none;\n",
              "      fill: #1967D2;\n",
              "      height: 32px;\n",
              "      padding: 0 0 0 0;\n",
              "      width: 32px;\n",
              "    }\n",
              "\n",
              "    .colab-df-convert:hover {\n",
              "      background-color: #E2EBFA;\n",
              "      box-shadow: 0px 1px 2px rgba(60, 64, 67, 0.3), 0px 1px 3px 1px rgba(60, 64, 67, 0.15);\n",
              "      fill: #174EA6;\n",
              "    }\n",
              "\n",
              "    .colab-df-buttons div {\n",
              "      margin-bottom: 4px;\n",
              "    }\n",
              "\n",
              "    [theme=dark] .colab-df-convert {\n",
              "      background-color: #3B4455;\n",
              "      fill: #D2E3FC;\n",
              "    }\n",
              "\n",
              "    [theme=dark] .colab-df-convert:hover {\n",
              "      background-color: #434B5C;\n",
              "      box-shadow: 0px 1px 3px 1px rgba(0, 0, 0, 0.15);\n",
              "      filter: drop-shadow(0px 1px 2px rgba(0, 0, 0, 0.3));\n",
              "      fill: #FFFFFF;\n",
              "    }\n",
              "  </style>\n",
              "\n",
              "    <script>\n",
              "      const buttonEl =\n",
              "        document.querySelector('#df-a15ba7e6-6d17-40f3-a2fc-f68292e78e43 button.colab-df-convert');\n",
              "      buttonEl.style.display =\n",
              "        google.colab.kernel.accessAllowed ? 'block' : 'none';\n",
              "\n",
              "      async function convertToInteractive(key) {\n",
              "        const element = document.querySelector('#df-a15ba7e6-6d17-40f3-a2fc-f68292e78e43');\n",
              "        const dataTable =\n",
              "          await google.colab.kernel.invokeFunction('convertToInteractive',\n",
              "                                                    [key], {});\n",
              "        if (!dataTable) return;\n",
              "\n",
              "        const docLinkHtml = 'Like what you see? Visit the ' +\n",
              "          '<a target=\"_blank\" href=https://colab.research.google.com/notebooks/data_table.ipynb>data table notebook</a>'\n",
              "          + ' to learn more about interactive tables.';\n",
              "        element.innerHTML = '';\n",
              "        dataTable['output_type'] = 'display_data';\n",
              "        await google.colab.output.renderOutput(dataTable, element);\n",
              "        const docLink = document.createElement('div');\n",
              "        docLink.innerHTML = docLinkHtml;\n",
              "        element.appendChild(docLink);\n",
              "      }\n",
              "    </script>\n",
              "  </div>\n",
              "\n",
              "\n",
              "<div id=\"df-97e4a8b7-1885-4bac-804f-26eadfd221ab\">\n",
              "  <button class=\"colab-df-quickchart\" onclick=\"quickchart('df-97e4a8b7-1885-4bac-804f-26eadfd221ab')\"\n",
              "            title=\"Suggest charts\"\n",
              "            style=\"display:none;\">\n",
              "\n",
              "<svg xmlns=\"http://www.w3.org/2000/svg\" height=\"24px\"viewBox=\"0 0 24 24\"\n",
              "     width=\"24px\">\n",
              "    <g>\n",
              "        <path d=\"M19 3H5c-1.1 0-2 .9-2 2v14c0 1.1.9 2 2 2h14c1.1 0 2-.9 2-2V5c0-1.1-.9-2-2-2zM9 17H7v-7h2v7zm4 0h-2V7h2v10zm4 0h-2v-4h2v4z\"/>\n",
              "    </g>\n",
              "</svg>\n",
              "  </button>\n",
              "\n",
              "<style>\n",
              "  .colab-df-quickchart {\n",
              "      --bg-color: #E8F0FE;\n",
              "      --fill-color: #1967D2;\n",
              "      --hover-bg-color: #E2EBFA;\n",
              "      --hover-fill-color: #174EA6;\n",
              "      --disabled-fill-color: #AAA;\n",
              "      --disabled-bg-color: #DDD;\n",
              "  }\n",
              "\n",
              "  [theme=dark] .colab-df-quickchart {\n",
              "      --bg-color: #3B4455;\n",
              "      --fill-color: #D2E3FC;\n",
              "      --hover-bg-color: #434B5C;\n",
              "      --hover-fill-color: #FFFFFF;\n",
              "      --disabled-bg-color: #3B4455;\n",
              "      --disabled-fill-color: #666;\n",
              "  }\n",
              "\n",
              "  .colab-df-quickchart {\n",
              "    background-color: var(--bg-color);\n",
              "    border: none;\n",
              "    border-radius: 50%;\n",
              "    cursor: pointer;\n",
              "    display: none;\n",
              "    fill: var(--fill-color);\n",
              "    height: 32px;\n",
              "    padding: 0;\n",
              "    width: 32px;\n",
              "  }\n",
              "\n",
              "  .colab-df-quickchart:hover {\n",
              "    background-color: var(--hover-bg-color);\n",
              "    box-shadow: 0 1px 2px rgba(60, 64, 67, 0.3), 0 1px 3px 1px rgba(60, 64, 67, 0.15);\n",
              "    fill: var(--button-hover-fill-color);\n",
              "  }\n",
              "\n",
              "  .colab-df-quickchart-complete:disabled,\n",
              "  .colab-df-quickchart-complete:disabled:hover {\n",
              "    background-color: var(--disabled-bg-color);\n",
              "    fill: var(--disabled-fill-color);\n",
              "    box-shadow: none;\n",
              "  }\n",
              "\n",
              "  .colab-df-spinner {\n",
              "    border: 2px solid var(--fill-color);\n",
              "    border-color: transparent;\n",
              "    border-bottom-color: var(--fill-color);\n",
              "    animation:\n",
              "      spin 1s steps(1) infinite;\n",
              "  }\n",
              "\n",
              "  @keyframes spin {\n",
              "    0% {\n",
              "      border-color: transparent;\n",
              "      border-bottom-color: var(--fill-color);\n",
              "      border-left-color: var(--fill-color);\n",
              "    }\n",
              "    20% {\n",
              "      border-color: transparent;\n",
              "      border-left-color: var(--fill-color);\n",
              "      border-top-color: var(--fill-color);\n",
              "    }\n",
              "    30% {\n",
              "      border-color: transparent;\n",
              "      border-left-color: var(--fill-color);\n",
              "      border-top-color: var(--fill-color);\n",
              "      border-right-color: var(--fill-color);\n",
              "    }\n",
              "    40% {\n",
              "      border-color: transparent;\n",
              "      border-right-color: var(--fill-color);\n",
              "      border-top-color: var(--fill-color);\n",
              "    }\n",
              "    60% {\n",
              "      border-color: transparent;\n",
              "      border-right-color: var(--fill-color);\n",
              "    }\n",
              "    80% {\n",
              "      border-color: transparent;\n",
              "      border-right-color: var(--fill-color);\n",
              "      border-bottom-color: var(--fill-color);\n",
              "    }\n",
              "    90% {\n",
              "      border-color: transparent;\n",
              "      border-bottom-color: var(--fill-color);\n",
              "    }\n",
              "  }\n",
              "</style>\n",
              "\n",
              "  <script>\n",
              "    async function quickchart(key) {\n",
              "      const quickchartButtonEl =\n",
              "        document.querySelector('#' + key + ' button');\n",
              "      quickchartButtonEl.disabled = true;  // To prevent multiple clicks.\n",
              "      quickchartButtonEl.classList.add('colab-df-spinner');\n",
              "      try {\n",
              "        const charts = await google.colab.kernel.invokeFunction(\n",
              "            'suggestCharts', [key], {});\n",
              "      } catch (error) {\n",
              "        console.error('Error during call to suggestCharts:', error);\n",
              "      }\n",
              "      quickchartButtonEl.classList.remove('colab-df-spinner');\n",
              "      quickchartButtonEl.classList.add('colab-df-quickchart-complete');\n",
              "    }\n",
              "    (() => {\n",
              "      let quickchartButtonEl =\n",
              "        document.querySelector('#df-97e4a8b7-1885-4bac-804f-26eadfd221ab button');\n",
              "      quickchartButtonEl.style.display =\n",
              "        google.colab.kernel.accessAllowed ? 'block' : 'none';\n",
              "    })();\n",
              "  </script>\n",
              "</div>\n",
              "    </div>\n",
              "  </div>\n"
            ],
            "application/vnd.google.colaboratory.intrinsic+json": {
              "type": "dataframe",
              "variable_name": "cost_value_data",
              "summary": "{\n  \"name\": \"cost_value_data\",\n  \"rows\": 100,\n  \"fields\": [\n    {\n      \"column\": \"Total pleasure\",\n      \"properties\": {\n        \"dtype\": \"number\",\n        \"std\": 77,\n        \"min\": 0,\n        \"max\": 359,\n        \"num_unique_values\": 53,\n        \"samples\": [\n          40,\n          149,\n          288\n        ],\n        \"semantic_type\": \"\",\n        \"description\": \"\"\n      }\n    },\n    {\n      \"column\": \"Total cost\",\n      \"properties\": {\n        \"dtype\": \"number\",\n        \"std\": 172,\n        \"min\": 0,\n        \"max\": 746,\n        \"num_unique_values\": 98,\n        \"samples\": [\n          368,\n          499,\n          535\n        ],\n        \"semantic_type\": \"\",\n        \"description\": \"\"\n      }\n    }\n  ]\n}"
            }
          },
          "metadata": {},
          "execution_count": 39
        }
      ],
      "source": [
        "cost_value_data = pd.DataFrame({'Total pleasure': summed_values, 'Total cost': summed_costs})\n",
        "cost_value_data"
      ]
    },
    {
      "cell_type": "code",
      "execution_count": 40,
      "metadata": {
        "colab": {
          "base_uri": "https://localhost:8080/",
          "height": 466
        },
        "id": "SPGrIwDs-g-L",
        "outputId": "df900c0f-f64b-4dc6-b4ca-fc7c397c5343"
      },
      "outputs": [
        {
          "output_type": "execute_result",
          "data": {
            "text/plain": [
              "[Text(0.5, 0, 'Order #'), Text(0, 0.5, 'Total value')]"
            ]
          },
          "metadata": {},
          "execution_count": 40
        },
        {
          "output_type": "display_data",
          "data": {
            "text/plain": [
              "<Figure size 640x480 with 1 Axes>"
            ],
            "image/png": "[encoded data removed]"
          },
          "metadata": {}
        }
      ],
      "source": [
        "cvp = cost_value_data.plot()\n",
        "cvp.set(xlabel=\"Order #\", ylabel=\"Total value\")"
      ]
    }
  ],
  "metadata": {
    "kernelspec": {
      "display_name": "Python 3",
      "language": "python",
      "name": "python3"
    },
    "language_info": {
      "codemirror_mode": {
        "name": "ipython",
        "version": 3
      },
      "file_extension": ".py",
      "mimetype": "text/x-python",
      "name": "python",
      "nbconvert_exporter": "python",
      "pygments_lexer": "ipython3",
      "version": "3.6.1"
    },
    "colab": {
      "provenance": []
    }
  },
  "nbformat": 4,
  "nbformat_minor": 0
}