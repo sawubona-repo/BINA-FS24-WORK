{
  "nbformat": 4,
  "nbformat_minor": 0,
  "metadata": {
    "colab": {
      "provenance": []
    },
    "kernelspec": {
      "name": "python3",
      "display_name": "Python 3"
    },
    "language_info": {
      "name": "python"
    },
    "accelerator": "GPU",
    "widgets": {
      "application/vnd.jupyter.widget-state+json": {
        "88a7c0098ff44cb39cd5b4ef6be4ad27": {
          "model_module": "@jupyter-widgets/controls",
          "model_name": "HBoxModel",
          "model_module_version": "1.5.0",
          "state": {
            "_dom_classes": [],
            "_model_module": "@jupyter-widgets/controls",
            "_model_module_version": "1.5.0",
            "_model_name": "HBoxModel",
            "_view_count": null,
            "_view_module": "@jupyter-widgets/controls",
            "_view_module_version": "1.5.0",
            "_view_name": "HBoxView",
            "box_style": "",
            "children": [
              "IPY_MODEL_b811ca10f4a94b058f3ca75d1959bc1a",
              "IPY_MODEL_fc43250de6934818ab69abbdb590305e",
              "IPY_MODEL_d3ffd064c6fa4c6fb4e877f3eb04d835"
            ],
            "layout": "IPY_MODEL_fb1b707d2a2d4882837514ee93329817"
          }
        },
        "b811ca10f4a94b058f3ca75d1959bc1a": {
          "model_module": "@jupyter-widgets/controls",
          "model_name": "HTMLModel",
          "model_module_version": "1.5.0",
          "state": {
            "_dom_classes": [],
            "_model_module": "@jupyter-widgets/controls",
            "_model_module_version": "1.5.0",
            "_model_name": "HTMLModel",
            "_view_count": null,
            "_view_module": "@jupyter-widgets/controls",
            "_view_module_version": "1.5.0",
            "_view_name": "HTMLView",
            "description": "",
            "description_tooltip": null,
            "layout": "IPY_MODEL_dbf320c63fa64e62b7012f488c4355ee",
            "placeholder": "​",
            "style": "IPY_MODEL_8560f0f5a774491e9778816a5055d298",
            "value": "Epoch 99: 100%"
          }
        },
        "fc43250de6934818ab69abbdb590305e": {
          "model_module": "@jupyter-widgets/controls",
          "model_name": "FloatProgressModel",
          "model_module_version": "1.5.0",
          "state": {
            "_dom_classes": [],
            "_model_module": "@jupyter-widgets/controls",
            "_model_module_version": "1.5.0",
            "_model_name": "FloatProgressModel",
            "_view_count": null,
            "_view_module": "@jupyter-widgets/controls",
            "_view_module_version": "1.5.0",
            "_view_name": "ProgressView",
            "bar_style": "success",
            "description": "",
            "description_tooltip": null,
            "layout": "IPY_MODEL_809fe4f678204175bc1fa7f2639fe7b6",
            "max": 3,
            "min": 0,
            "orientation": "horizontal",
            "style": "IPY_MODEL_4cf1d3ffb7f04fe682a18e5583e10c67",
            "value": 3
          }
        },
        "d3ffd064c6fa4c6fb4e877f3eb04d835": {
          "model_module": "@jupyter-widgets/controls",
          "model_name": "HTMLModel",
          "model_module_version": "1.5.0",
          "state": {
            "_dom_classes": [],
            "_model_module": "@jupyter-widgets/controls",
            "_model_module_version": "1.5.0",
            "_model_name": "HTMLModel",
            "_view_count": null,
            "_view_module": "@jupyter-widgets/controls",
            "_view_module_version": "1.5.0",
            "_view_name": "HTMLView",
            "description": "",
            "description_tooltip": null,
            "layout": "IPY_MODEL_712bb2fe9e934c1ea0bb00a5d0c869d3",
            "placeholder": "​",
            "style": "IPY_MODEL_56c9fd1072c14a87b0a967fa426a4443",
            "value": " 3/3 [00:00&lt;00:00, 15.62it/s, train_loss=0.000399]"
          }
        },
        "fb1b707d2a2d4882837514ee93329817": {
          "model_module": "@jupyter-widgets/base",
          "model_name": "LayoutModel",
          "model_module_version": "1.2.0",
          "state": {
            "_model_module": "@jupyter-widgets/base",
            "_model_module_version": "1.2.0",
            "_model_name": "LayoutModel",
            "_view_count": null,
            "_view_module": "@jupyter-widgets/base",
            "_view_module_version": "1.2.0",
            "_view_name": "LayoutView",
            "align_content": null,
            "align_items": null,
            "align_self": null,
            "border": null,
            "bottom": null,
            "display": "inline-flex",
            "flex": null,
            "flex_flow": "row wrap",
            "grid_area": null,
            "grid_auto_columns": null,
            "grid_auto_flow": null,
            "grid_auto_rows": null,
            "grid_column": null,
            "grid_gap": null,
            "grid_row": null,
            "grid_template_areas": null,
            "grid_template_columns": null,
            "grid_template_rows": null,
            "height": null,
            "justify_content": null,
            "justify_items": null,
            "left": null,
            "margin": null,
            "max_height": null,
            "max_width": null,
            "min_height": null,
            "min_width": null,
            "object_fit": null,
            "object_position": null,
            "order": null,
            "overflow": null,
            "overflow_x": null,
            "overflow_y": null,
            "padding": null,
            "right": null,
            "top": null,
            "visibility": null,
            "width": "100%"
          }
        },
        "dbf320c63fa64e62b7012f488c4355ee": {
          "model_module": "@jupyter-widgets/base",
          "model_name": "LayoutModel",
          "model_module_version": "1.2.0",
          "state": {
            "_model_module": "@jupyter-widgets/base",
            "_model_module_version": "1.2.0",
            "_model_name": "LayoutModel",
            "_view_count": null,
            "_view_module": "@jupyter-widgets/base",
            "_view_module_version": "1.2.0",
            "_view_name": "LayoutView",
            "align_content": null,
            "align_items": null,
            "align_self": null,
            "border": null,
            "bottom": null,
            "display": null,
            "flex": null,
            "flex_flow": null,
            "grid_area": null,
            "grid_auto_columns": null,
            "grid_auto_flow": null,
            "grid_auto_rows": null,
            "grid_column": null,
            "grid_gap": null,
            "grid_row": null,
            "grid_template_areas": null,
            "grid_template_columns": null,
            "grid_template_rows": null,
            "height": null,
            "justify_content": null,
            "justify_items": null,
            "left": null,
            "margin": null,
            "max_height": null,
            "max_width": null,
            "min_height": null,
            "min_width": null,
            "object_fit": null,
            "object_position": null,
            "order": null,
            "overflow": null,
            "overflow_x": null,
            "overflow_y": null,
            "padding": null,
            "right": null,
            "top": null,
            "visibility": null,
            "width": null
          }
        },
        "8560f0f5a774491e9778816a5055d298": {
          "model_module": "@jupyter-widgets/controls",
          "model_name": "DescriptionStyleModel",
          "model_module_version": "1.5.0",
          "state": {
            "_model_module": "@jupyter-widgets/controls",
            "_model_module_version": "1.5.0",
            "_model_name": "DescriptionStyleModel",
            "_view_count": null,
            "_view_module": "@jupyter-widgets/base",
            "_view_module_version": "1.2.0",
            "_view_name": "StyleView",
            "description_width": ""
          }
        },
        "809fe4f678204175bc1fa7f2639fe7b6": {
          "model_module": "@jupyter-widgets/base",
          "model_name": "LayoutModel",
          "model_module_version": "1.2.0",
          "state": {
            "_model_module": "@jupyter-widgets/base",
            "_model_module_version": "1.2.0",
            "_model_name": "LayoutModel",
            "_view_count": null,
            "_view_module": "@jupyter-widgets/base",
            "_view_module_version": "1.2.0",
            "_view_name": "LayoutView",
            "align_content": null,
            "align_items": null,
            "align_self": null,
            "border": null,
            "bottom": null,
            "display": null,
            "flex": "2",
            "flex_flow": null,
            "grid_area": null,
            "grid_auto_columns": null,
            "grid_auto_flow": null,
            "grid_auto_rows": null,
            "grid_column": null,
            "grid_gap": null,
            "grid_row": null,
            "grid_template_areas": null,
            "grid_template_columns": null,
            "grid_template_rows": null,
            "height": null,
            "justify_content": null,
            "justify_items": null,
            "left": null,
            "margin": null,
            "max_height": null,
            "max_width": null,
            "min_height": null,
            "min_width": null,
            "object_fit": null,
            "object_position": null,
            "order": null,
            "overflow": null,
            "overflow_x": null,
            "overflow_y": null,
            "padding": null,
            "right": null,
            "top": null,
            "visibility": null,
            "width": null
          }
        },
        "4cf1d3ffb7f04fe682a18e5583e10c67": {
          "model_module": "@jupyter-widgets/controls",
          "model_name": "ProgressStyleModel",
          "model_module_version": "1.5.0",
          "state": {
            "_model_module": "@jupyter-widgets/controls",
            "_model_module_version": "1.5.0",
            "_model_name": "ProgressStyleModel",
            "_view_count": null,
            "_view_module": "@jupyter-widgets/base",
            "_view_module_version": "1.2.0",
            "_view_name": "StyleView",
            "bar_color": null,
            "description_width": ""
          }
        },
        "712bb2fe9e934c1ea0bb00a5d0c869d3": {
          "model_module": "@jupyter-widgets/base",
          "model_name": "LayoutModel",
          "model_module_version": "1.2.0",
          "state": {
            "_model_module": "@jupyter-widgets/base",
            "_model_module_version": "1.2.0",
            "_model_name": "LayoutModel",
            "_view_count": null,
            "_view_module": "@jupyter-widgets/base",
            "_view_module_version": "1.2.0",
            "_view_name": "LayoutView",
            "align_content": null,
            "align_items": null,
            "align_self": null,
            "border": null,
            "bottom": null,
            "display": null,
            "flex": null,
            "flex_flow": null,
            "grid_area": null,
            "grid_auto_columns": null,
            "grid_auto_flow": null,
            "grid_auto_rows": null,
            "grid_column": null,
            "grid_gap": null,
            "grid_row": null,
            "grid_template_areas": null,
            "grid_template_columns": null,
            "grid_template_rows": null,
            "height": null,
            "justify_content": null,
            "justify_items": null,
            "left": null,
            "margin": null,
            "max_height": null,
            "max_width": null,
            "min_height": null,
            "min_width": null,
            "object_fit": null,
            "object_position": null,
            "order": null,
            "overflow": null,
            "overflow_x": null,
            "overflow_y": null,
            "padding": null,
            "right": null,
            "top": null,
            "visibility": null,
            "width": null
          }
        },
        "56c9fd1072c14a87b0a967fa426a4443": {
          "model_module": "@jupyter-widgets/controls",
          "model_name": "DescriptionStyleModel",
          "model_module_version": "1.5.0",
          "state": {
            "_model_module": "@jupyter-widgets/controls",
            "_model_module_version": "1.5.0",
            "_model_name": "DescriptionStyleModel",
            "_view_count": null,
            "_view_module": "@jupyter-widgets/base",
            "_view_module_version": "1.2.0",
            "_view_name": "StyleView",
            "description_width": ""
          }
        },
        "ba21c8a2cd5e432486ae9bf58480b684": {
          "model_module": "@jupyter-widgets/controls",
          "model_name": "HBoxModel",
          "model_module_version": "1.5.0",
          "state": {
            "_dom_classes": [],
            "_model_module": "@jupyter-widgets/controls",
            "_model_module_version": "1.5.0",
            "_model_name": "HBoxModel",
            "_view_count": null,
            "_view_module": "@jupyter-widgets/controls",
            "_view_module_version": "1.5.0",
            "_view_name": "HBoxView",
            "box_style": "",
            "children": [
              "IPY_MODEL_605f0c5accaa4c6e85db863fd47731de",
              "IPY_MODEL_ad0bffe5403d4d08a781b1a146ca96ac",
              "IPY_MODEL_627af600c4234fe297bebab09e0db040"
            ],
            "layout": "IPY_MODEL_d20a8ef228264289ae516e418a6cd5bd"
          }
        },
        "605f0c5accaa4c6e85db863fd47731de": {
          "model_module": "@jupyter-widgets/controls",
          "model_name": "HTMLModel",
          "model_module_version": "1.5.0",
          "state": {
            "_dom_classes": [],
            "_model_module": "@jupyter-widgets/controls",
            "_model_module_version": "1.5.0",
            "_model_name": "HTMLModel",
            "_view_count": null,
            "_view_module": "@jupyter-widgets/controls",
            "_view_module_version": "1.5.0",
            "_view_name": "HTMLView",
            "description": "",
            "description_tooltip": null,
            "layout": "IPY_MODEL_6fe50ea752c34e9fa35bd15a224ded13",
            "placeholder": "​",
            "style": "IPY_MODEL_e8c5ddfa411e48e3bf93983e6449e133",
            "value": "Predicting DataLoader 0: 100%"
          }
        },
        "ad0bffe5403d4d08a781b1a146ca96ac": {
          "model_module": "@jupyter-widgets/controls",
          "model_name": "FloatProgressModel",
          "model_module_version": "1.5.0",
          "state": {
            "_dom_classes": [],
            "_model_module": "@jupyter-widgets/controls",
            "_model_module_version": "1.5.0",
            "_model_name": "FloatProgressModel",
            "_view_count": null,
            "_view_module": "@jupyter-widgets/controls",
            "_view_module_version": "1.5.0",
            "_view_name": "ProgressView",
            "bar_style": "success",
            "description": "",
            "description_tooltip": null,
            "layout": "IPY_MODEL_86615e6c6fe54bd5b64317509b3c0369",
            "max": 1,
            "min": 0,
            "orientation": "horizontal",
            "style": "IPY_MODEL_7c9d6ee5bd1e41b1932c04d4aece5dfd",
            "value": 1
          }
        },
        "627af600c4234fe297bebab09e0db040": {
          "model_module": "@jupyter-widgets/controls",
          "model_name": "HTMLModel",
          "model_module_version": "1.5.0",
          "state": {
            "_dom_classes": [],
            "_model_module": "@jupyter-widgets/controls",
            "_model_module_version": "1.5.0",
            "_model_name": "HTMLModel",
            "_view_count": null,
            "_view_module": "@jupyter-widgets/controls",
            "_view_module_version": "1.5.0",
            "_view_name": "HTMLView",
            "description": "",
            "description_tooltip": null,
            "layout": "IPY_MODEL_accb394e5be34a7fa17309d12745bb6a",
            "placeholder": "​",
            "style": "IPY_MODEL_9f1e5c26f75c46aa95b897c53a4cf1dd",
            "value": " 1/1 [00:00&lt;00:00, 13.74it/s]"
          }
        },
        "d20a8ef228264289ae516e418a6cd5bd": {
          "model_module": "@jupyter-widgets/base",
          "model_name": "LayoutModel",
          "model_module_version": "1.2.0",
          "state": {
            "_model_module": "@jupyter-widgets/base",
            "_model_module_version": "1.2.0",
            "_model_name": "LayoutModel",
            "_view_count": null,
            "_view_module": "@jupyter-widgets/base",
            "_view_module_version": "1.2.0",
            "_view_name": "LayoutView",
            "align_content": null,
            "align_items": null,
            "align_self": null,
            "border": null,
            "bottom": null,
            "display": "inline-flex",
            "flex": null,
            "flex_flow": "row wrap",
            "grid_area": null,
            "grid_auto_columns": null,
            "grid_auto_flow": null,
            "grid_auto_rows": null,
            "grid_column": null,
            "grid_gap": null,
            "grid_row": null,
            "grid_template_areas": null,
            "grid_template_columns": null,
            "grid_template_rows": null,
            "height": null,
            "justify_content": null,
            "justify_items": null,
            "left": null,
            "margin": null,
            "max_height": null,
            "max_width": null,
            "min_height": null,
            "min_width": null,
            "object_fit": null,
            "object_position": null,
            "order": null,
            "overflow": null,
            "overflow_x": null,
            "overflow_y": null,
            "padding": null,
            "right": null,
            "top": null,
            "visibility": null,
            "width": "100%"
          }
        },
        "6fe50ea752c34e9fa35bd15a224ded13": {
          "model_module": "@jupyter-widgets/base",
          "model_name": "LayoutModel",
          "model_module_version": "1.2.0",
          "state": {
            "_model_module": "@jupyter-widgets/base",
            "_model_module_version": "1.2.0",
            "_model_name": "LayoutModel",
            "_view_count": null,
            "_view_module": "@jupyter-widgets/base",
            "_view_module_version": "1.2.0",
            "_view_name": "LayoutView",
            "align_content": null,
            "align_items": null,
            "align_self": null,
            "border": null,
            "bottom": null,
            "display": null,
            "flex": null,
            "flex_flow": null,
            "grid_area": null,
            "grid_auto_columns": null,
            "grid_auto_flow": null,
            "grid_auto_rows": null,
            "grid_column": null,
            "grid_gap": null,
            "grid_row": null,
            "grid_template_areas": null,
            "grid_template_columns": null,
            "grid_template_rows": null,
            "height": null,
            "justify_content": null,
            "justify_items": null,
            "left": null,
            "margin": null,
            "max_height": null,
            "max_width": null,
            "min_height": null,
            "min_width": null,
            "object_fit": null,
            "object_position": null,
            "order": null,
            "overflow": null,
            "overflow_x": null,
            "overflow_y": null,
            "padding": null,
            "right": null,
            "top": null,
            "visibility": null,
            "width": null
          }
        },
        "e8c5ddfa411e48e3bf93983e6449e133": {
          "model_module": "@jupyter-widgets/controls",
          "model_name": "DescriptionStyleModel",
          "model_module_version": "1.5.0",
          "state": {
            "_model_module": "@jupyter-widgets/controls",
            "_model_module_version": "1.5.0",
            "_model_name": "DescriptionStyleModel",
            "_view_count": null,
            "_view_module": "@jupyter-widgets/base",
            "_view_module_version": "1.2.0",
            "_view_name": "StyleView",
            "description_width": ""
          }
        },
        "86615e6c6fe54bd5b64317509b3c0369": {
          "model_module": "@jupyter-widgets/base",
          "model_name": "LayoutModel",
          "model_module_version": "1.2.0",
          "state": {
            "_model_module": "@jupyter-widgets/base",
            "_model_module_version": "1.2.0",
            "_model_name": "LayoutModel",
            "_view_count": null,
            "_view_module": "@jupyter-widgets/base",
            "_view_module_version": "1.2.0",
            "_view_name": "LayoutView",
            "align_content": null,
            "align_items": null,
            "align_self": null,
            "border": null,
            "bottom": null,
            "display": null,
            "flex": "2",
            "flex_flow": null,
            "grid_area": null,
            "grid_auto_columns": null,
            "grid_auto_flow": null,
            "grid_auto_rows": null,
            "grid_column": null,
            "grid_gap": null,
            "grid_row": null,
            "grid_template_areas": null,
            "grid_template_columns": null,
            "grid_template_rows": null,
            "height": null,
            "justify_content": null,
            "justify_items": null,
            "left": null,
            "margin": null,
            "max_height": null,
            "max_width": null,
            "min_height": null,
            "min_width": null,
            "object_fit": null,
            "object_position": null,
            "order": null,
            "overflow": null,
            "overflow_x": null,
            "overflow_y": null,
            "padding": null,
            "right": null,
            "top": null,
            "visibility": null,
            "width": null
          }
        },
        "7c9d6ee5bd1e41b1932c04d4aece5dfd": {
          "model_module": "@jupyter-widgets/controls",
          "model_name": "ProgressStyleModel",
          "model_module_version": "1.5.0",
          "state": {
            "_model_module": "@jupyter-widgets/controls",
            "_model_module_version": "1.5.0",
            "_model_name": "ProgressStyleModel",
            "_view_count": null,
            "_view_module": "@jupyter-widgets/base",
            "_view_module_version": "1.2.0",
            "_view_name": "StyleView",
            "bar_color": null,
            "description_width": ""
          }
        },
        "accb394e5be34a7fa17309d12745bb6a": {
          "model_module": "@jupyter-widgets/base",
          "model_name": "LayoutModel",
          "model_module_version": "1.2.0",
          "state": {
            "_model_module": "@jupyter-widgets/base",
            "_model_module_version": "1.2.0",
            "_model_name": "LayoutModel",
            "_view_count": null,
            "_view_module": "@jupyter-widgets/base",
            "_view_module_version": "1.2.0",
            "_view_name": "LayoutView",
            "align_content": null,
            "align_items": null,
            "align_self": null,
            "border": null,
            "bottom": null,
            "display": null,
            "flex": null,
            "flex_flow": null,
            "grid_area": null,
            "grid_auto_columns": null,
            "grid_auto_flow": null,
            "grid_auto_rows": null,
            "grid_column": null,
            "grid_gap": null,
            "grid_row": null,
            "grid_template_areas": null,
            "grid_template_columns": null,
            "grid_template_rows": null,
            "height": null,
            "justify_content": null,
            "justify_items": null,
            "left": null,
            "margin": null,
            "max_height": null,
            "max_width": null,
            "min_height": null,
            "min_width": null,
            "object_fit": null,
            "object_position": null,
            "order": null,
            "overflow": null,
            "overflow_x": null,
            "overflow_y": null,
            "padding": null,
            "right": null,
            "top": null,
            "visibility": null,
            "width": null
          }
        },
        "9f1e5c26f75c46aa95b897c53a4cf1dd": {
          "model_module": "@jupyter-widgets/controls",
          "model_name": "DescriptionStyleModel",
          "model_module_version": "1.5.0",
          "state": {
            "_model_module": "@jupyter-widgets/controls",
            "_model_module_version": "1.5.0",
            "_model_name": "DescriptionStyleModel",
            "_view_count": null,
            "_view_module": "@jupyter-widgets/base",
            "_view_module_version": "1.2.0",
            "_view_name": "StyleView",
            "description_width": ""
          }
        },
        "b7ff8418b51c4e1b94d9c47a1eac70ca": {
          "model_module": "@jupyter-widgets/controls",
          "model_name": "HBoxModel",
          "model_module_version": "1.5.0",
          "state": {
            "_dom_classes": [],
            "_model_module": "@jupyter-widgets/controls",
            "_model_module_version": "1.5.0",
            "_model_name": "HBoxModel",
            "_view_count": null,
            "_view_module": "@jupyter-widgets/controls",
            "_view_module_version": "1.5.0",
            "_view_name": "HBoxView",
            "box_style": "",
            "children": [
              "IPY_MODEL_eb5ad902eeb84c518dfeace987662bc2",
              "IPY_MODEL_dec64f08747c4eb1bf9bbdeff2b13135",
              "IPY_MODEL_d9f0abd8d7934c628c1ba3d7de6ede22"
            ],
            "layout": "IPY_MODEL_ea5203385dee4917b7d2eb7b38dca7d9"
          }
        },
        "eb5ad902eeb84c518dfeace987662bc2": {
          "model_module": "@jupyter-widgets/controls",
          "model_name": "HTMLModel",
          "model_module_version": "1.5.0",
          "state": {
            "_dom_classes": [],
            "_model_module": "@jupyter-widgets/controls",
            "_model_module_version": "1.5.0",
            "_model_name": "HTMLModel",
            "_view_count": null,
            "_view_module": "@jupyter-widgets/controls",
            "_view_module_version": "1.5.0",
            "_view_name": "HTMLView",
            "description": "",
            "description_tooltip": null,
            "layout": "IPY_MODEL_04862c451c4d49189c1802048154c6c5",
            "placeholder": "​",
            "style": "IPY_MODEL_c1969decd25d4cadb42c1080b22a3a7d",
            "value": "Predicting DataLoader 0: 100%"
          }
        },
        "dec64f08747c4eb1bf9bbdeff2b13135": {
          "model_module": "@jupyter-widgets/controls",
          "model_name": "FloatProgressModel",
          "model_module_version": "1.5.0",
          "state": {
            "_dom_classes": [],
            "_model_module": "@jupyter-widgets/controls",
            "_model_module_version": "1.5.0",
            "_model_name": "FloatProgressModel",
            "_view_count": null,
            "_view_module": "@jupyter-widgets/controls",
            "_view_module_version": "1.5.0",
            "_view_name": "ProgressView",
            "bar_style": "success",
            "description": "",
            "description_tooltip": null,
            "layout": "IPY_MODEL_631cfc4f4b06463a999a357a46f5cf46",
            "max": 1,
            "min": 0,
            "orientation": "horizontal",
            "style": "IPY_MODEL_79a720ccedcd4182aaa2ff0299468dbe",
            "value": 1
          }
        },
        "d9f0abd8d7934c628c1ba3d7de6ede22": {
          "model_module": "@jupyter-widgets/controls",
          "model_name": "HTMLModel",
          "model_module_version": "1.5.0",
          "state": {
            "_dom_classes": [],
            "_model_module": "@jupyter-widgets/controls",
            "_model_module_version": "1.5.0",
            "_model_name": "HTMLModel",
            "_view_count": null,
            "_view_module": "@jupyter-widgets/controls",
            "_view_module_version": "1.5.0",
            "_view_name": "HTMLView",
            "description": "",
            "description_tooltip": null,
            "layout": "IPY_MODEL_567bc2a0fca54f5583d65038031f04e0",
            "placeholder": "​",
            "style": "IPY_MODEL_b8294d36433a410b8be79f9c0933b266",
            "value": " 1/1 [00:00&lt;00:00, 10.31it/s]"
          }
        },
        "ea5203385dee4917b7d2eb7b38dca7d9": {
          "model_module": "@jupyter-widgets/base",
          "model_name": "LayoutModel",
          "model_module_version": "1.2.0",
          "state": {
            "_model_module": "@jupyter-widgets/base",
            "_model_module_version": "1.2.0",
            "_model_name": "LayoutModel",
            "_view_count": null,
            "_view_module": "@jupyter-widgets/base",
            "_view_module_version": "1.2.0",
            "_view_name": "LayoutView",
            "align_content": null,
            "align_items": null,
            "align_self": null,
            "border": null,
            "bottom": null,
            "display": "inline-flex",
            "flex": null,
            "flex_flow": "row wrap",
            "grid_area": null,
            "grid_auto_columns": null,
            "grid_auto_flow": null,
            "grid_auto_rows": null,
            "grid_column": null,
            "grid_gap": null,
            "grid_row": null,
            "grid_template_areas": null,
            "grid_template_columns": null,
            "grid_template_rows": null,
            "height": null,
            "justify_content": null,
            "justify_items": null,
            "left": null,
            "margin": null,
            "max_height": null,
            "max_width": null,
            "min_height": null,
            "min_width": null,
            "object_fit": null,
            "object_position": null,
            "order": null,
            "overflow": null,
            "overflow_x": null,
            "overflow_y": null,
            "padding": null,
            "right": null,
            "top": null,
            "visibility": null,
            "width": "100%"
          }
        },
        "04862c451c4d49189c1802048154c6c5": {
          "model_module": "@jupyter-widgets/base",
          "model_name": "LayoutModel",
          "model_module_version": "1.2.0",
          "state": {
            "_model_module": "@jupyter-widgets/base",
            "_model_module_version": "1.2.0",
            "_model_name": "LayoutModel",
            "_view_count": null,
            "_view_module": "@jupyter-widgets/base",
            "_view_module_version": "1.2.0",
            "_view_name": "LayoutView",
            "align_content": null,
            "align_items": null,
            "align_self": null,
            "border": null,
            "bottom": null,
            "display": null,
            "flex": null,
            "flex_flow": null,
            "grid_area": null,
            "grid_auto_columns": null,
            "grid_auto_flow": null,
            "grid_auto_rows": null,
            "grid_column": null,
            "grid_gap": null,
            "grid_row": null,
            "grid_template_areas": null,
            "grid_template_columns": null,
            "grid_template_rows": null,
            "height": null,
            "justify_content": null,
            "justify_items": null,
            "left": null,
            "margin": null,
            "max_height": null,
            "max_width": null,
            "min_height": null,
            "min_width": null,
            "object_fit": null,
            "object_position": null,
            "order": null,
            "overflow": null,
            "overflow_x": null,
            "overflow_y": null,
            "padding": null,
            "right": null,
            "top": null,
            "visibility": null,
            "width": null
          }
        },
        "c1969decd25d4cadb42c1080b22a3a7d": {
          "model_module": "@jupyter-widgets/controls",
          "model_name": "DescriptionStyleModel",
          "model_module_version": "1.5.0",
          "state": {
            "_model_module": "@jupyter-widgets/controls",
            "_model_module_version": "1.5.0",
            "_model_name": "DescriptionStyleModel",
            "_view_count": null,
            "_view_module": "@jupyter-widgets/base",
            "_view_module_version": "1.2.0",
            "_view_name": "StyleView",
            "description_width": ""
          }
        },
        "631cfc4f4b06463a999a357a46f5cf46": {
          "model_module": "@jupyter-widgets/base",
          "model_name": "LayoutModel",
          "model_module_version": "1.2.0",
          "state": {
            "_model_module": "@jupyter-widgets/base",
            "_model_module_version": "1.2.0",
            "_model_name": "LayoutModel",
            "_view_count": null,
            "_view_module": "@jupyter-widgets/base",
            "_view_module_version": "1.2.0",
            "_view_name": "LayoutView",
            "align_content": null,
            "align_items": null,
            "align_self": null,
            "border": null,
            "bottom": null,
            "display": null,
            "flex": "2",
            "flex_flow": null,
            "grid_area": null,
            "grid_auto_columns": null,
            "grid_auto_flow": null,
            "grid_auto_rows": null,
            "grid_column": null,
            "grid_gap": null,
            "grid_row": null,
            "grid_template_areas": null,
            "grid_template_columns": null,
            "grid_template_rows": null,
            "height": null,
            "justify_content": null,
            "justify_items": null,
            "left": null,
            "margin": null,
            "max_height": null,
            "max_width": null,
            "min_height": null,
            "min_width": null,
            "object_fit": null,
            "object_position": null,
            "order": null,
            "overflow": null,
            "overflow_x": null,
            "overflow_y": null,
            "padding": null,
            "right": null,
            "top": null,
            "visibility": null,
            "width": null
          }
        },
        "79a720ccedcd4182aaa2ff0299468dbe": {
          "model_module": "@jupyter-widgets/controls",
          "model_name": "ProgressStyleModel",
          "model_module_version": "1.5.0",
          "state": {
            "_model_module": "@jupyter-widgets/controls",
            "_model_module_version": "1.5.0",
            "_model_name": "ProgressStyleModel",
            "_view_count": null,
            "_view_module": "@jupyter-widgets/base",
            "_view_module_version": "1.2.0",
            "_view_name": "StyleView",
            "bar_color": null,
            "description_width": ""
          }
        },
        "567bc2a0fca54f5583d65038031f04e0": {
          "model_module": "@jupyter-widgets/base",
          "model_name": "LayoutModel",
          "model_module_version": "1.2.0",
          "state": {
            "_model_module": "@jupyter-widgets/base",
            "_model_module_version": "1.2.0",
            "_model_name": "LayoutModel",
            "_view_count": null,
            "_view_module": "@jupyter-widgets/base",
            "_view_module_version": "1.2.0",
            "_view_name": "LayoutView",
            "align_content": null,
            "align_items": null,
            "align_self": null,
            "border": null,
            "bottom": null,
            "display": null,
            "flex": null,
            "flex_flow": null,
            "grid_area": null,
            "grid_auto_columns": null,
            "grid_auto_flow": null,
            "grid_auto_rows": null,
            "grid_column": null,
            "grid_gap": null,
            "grid_row": null,
            "grid_template_areas": null,
            "grid_template_columns": null,
            "grid_template_rows": null,
            "height": null,
            "justify_content": null,
            "justify_items": null,
            "left": null,
            "margin": null,
            "max_height": null,
            "max_width": null,
            "min_height": null,
            "min_width": null,
            "object_fit": null,
            "object_position": null,
            "order": null,
            "overflow": null,
            "overflow_x": null,
            "overflow_y": null,
            "padding": null,
            "right": null,
            "top": null,
            "visibility": null,
            "width": null
          }
        },
        "b8294d36433a410b8be79f9c0933b266": {
          "model_module": "@jupyter-widgets/controls",
          "model_name": "DescriptionStyleModel",
          "model_module_version": "1.5.0",
          "state": {
            "_model_module": "@jupyter-widgets/controls",
            "_model_module_version": "1.5.0",
            "_model_name": "DescriptionStyleModel",
            "_view_count": null,
            "_view_module": "@jupyter-widgets/base",
            "_view_module_version": "1.2.0",
            "_view_name": "StyleView",
            "description_width": ""
          }
        }
      }
    }
  },
  "cells": [
    {
      "cell_type": "markdown",
      "source": [
        "# DEMO Python Notebook\n",
        "# **Darts’** 'Swiss Knife' Library for **Time Series Forecasting**\n",
        "### A Multi-Method Python Package to Analyze Your Time Series Data"
      ],
      "metadata": {
        "id": "RmRlyBjD7hnv"
      }
    },
    {
      "cell_type": "markdown",
      "source": [
        "![image.png](data:image/png;base64,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)"
      ],
      "metadata": {
        "id": "gGL7Sauk7zwK"
      }
    },
    {
      "cell_type": "markdown",
      "source": [
        "**Darts** is a Python library for user-friendly forecasting and anomaly detection on time series. It contains a variety of models, from classics such as ARIMA to deep neural networks. The forecasting models can all be used in the same way, using fit() and predict() functions, similar to scikit-learn.  \n",
        "\n",
        "Darts supports both univariate and multivariate time series and models. The ML-based models can be trained on potentially large datasets containing multiple time series, and some of the models offer a rich support for probabilistic forecasting.\n",
        "\n",
        "---   \n",
        "**Example Data**: A monthly time series data of the (international) **Air Passengers** of Pan Am airline in the United Stades of America from 1 Jan 1949 to 1 Dec 1960. Each row contains the air passenger number for a month of that particular year. The numbers were obtained from the Federal Aviation Administration. The company used the data to predict future demand before ordering new aircraft and training aircrew.  \n",
        "\n",
        "Sources:\n",
        "* See [Darts](https://unit8co.github.io/darts/README.html) official documentation\n",
        "* See [Unit8](https://unit8.com/resources/darts-time-series-made-easy-in-python/) for more information and tipps\n",
        "* [Time Series Forecasting made easy with Darts](https://towardsdatascience.com/time-series-forecasting-made-easy-with-darts-3be0b8ba02f4)\n",
        "\n",
        "---\n",
        "Author:\n",
        "*   dr.daniel benninger  [> Linkedin](https://www.linkedin.com/in/danielbenninger/)\n",
        "\n",
        "History:\n",
        "*  v1, April 2023, dbe --- initial version for BINA FS23  \n",
        "---  "
      ],
      "metadata": {
        "id": "D78EEatf_ehr"
      }
    },
    {
      "cell_type": "markdown",
      "metadata": {
        "id": "WKm4uXxKN6VA"
      },
      "source": [
        "## **DARTS - Time Series Made Easy With Python**\n",
        "\n",
        "- A very easy time series analysis library\n",
        "- Allows  univariate and multivariate time series fore-casting.\n",
        "- Has models like `arima`, `auto-arima`, `deep neural networks`\n",
        "- Similar to sklearn\n",
        "- Uses fit and predict method\n",
        "- Example uses in build dataset\n"
      ]
    },
    {
      "cell_type": "markdown",
      "metadata": {
        "id": "eCeZRUN-PXw1"
      },
      "source": [
        "## Installing And Loading"
      ]
    },
    {
      "cell_type": "code",
      "metadata": {
        "id": "tTuFDrWGU6Vo"
      },
      "source": [
        "import pandas as pd\n"
      ],
      "execution_count": null,
      "outputs": []
    },
    {
      "cell_type": "code",
      "metadata": {
        "id": "EQBwWFMlPXHP",
        "colab": {
          "base_uri": "https://localhost:8080/",
          "height": 1000
        },
        "outputId": "2b5592ba-a100-4029-a7c8-d8f71d3fbedd"
      },
      "source": [
        "!pip install darts"
      ],
      "execution_count": null,
      "outputs": [
        {
          "output_type": "stream",
          "name": "stdout",
          "text": [
            "Requirement already satisfied: darts in /usr/local/lib/python3.10/dist-packages (0.28.0)\n",
            "Requirement already satisfied: holidays>=0.11.1 in /usr/local/lib/python3.10/dist-packages (from darts) (0.46)\n",
            "Requirement already satisfied: joblib>=0.16.0 in /usr/local/lib/python3.10/dist-packages (from darts) (1.3.2)\n",
            "Collecting matplotlib>=3.3.0 (from darts)\n",
            "  Downloading matplotlib-3.8.4-cp310-cp310-manylinux_2_17_x86_64.manylinux2014_x86_64.whl (11.6 MB)\n",
            "\u001b[2K     \u001b[90m━━━━━━━━━━━━━━━━━━━━━━━━━━━━━━━━━━━━━━━━\u001b[0m \u001b[32m11.6/11.6 MB\u001b[0m \u001b[31m35.9 MB/s\u001b[0m eta \u001b[36m0:00:00\u001b[0m\n",
            "\u001b[?25hRequirement already satisfied: nfoursid>=1.0.0 in /usr/local/lib/python3.10/dist-packages (from darts) (1.0.1)\n",
            "Requirement already satisfied: numpy>=1.19.0 in /usr/local/lib/python3.10/dist-packages (from darts) (1.25.2)\n",
            "Requirement already satisfied: pmdarima>=1.8.0 in /usr/local/lib/python3.10/dist-packages (from darts) (2.0.4)\n",
            "Requirement already satisfied: pyod>=0.9.5 in /usr/local/lib/python3.10/dist-packages (from darts) (1.1.3)\n",
            "Requirement already satisfied: requests>=2.22.0 in /usr/local/lib/python3.10/dist-packages (from darts) (2.31.0)\n",
            "Requirement already satisfied: scikit-learn>=1.0.1 in /usr/local/lib/python3.10/dist-packages (from darts) (1.2.2)\n",
            "Requirement already satisfied: scipy>=1.3.2 in /usr/local/lib/python3.10/dist-packages (from darts) (1.11.4)\n",
            "Requirement already satisfied: shap>=0.40.0 in /usr/local/lib/python3.10/dist-packages (from darts) (0.45.0)\n",
            "Requirement already satisfied: statsforecast>=1.4 in /usr/local/lib/python3.10/dist-packages (from darts) (1.7.3)\n",
            "Requirement already satisfied: statsmodels>=0.14.0 in /usr/local/lib/python3.10/dist-packages (from darts) (0.14.1)\n",
            "Requirement already satisfied: tbats>=1.1.0 in /usr/local/lib/python3.10/dist-packages (from darts) (1.1.3)\n",
            "Requirement already satisfied: tqdm>=4.60.0 in /usr/local/lib/python3.10/dist-packages (from darts) (4.66.2)\n",
            "Requirement already satisfied: typing-extensions in /usr/local/lib/python3.10/dist-packages (from darts) (4.10.0)\n",
            "Requirement already satisfied: xarray>=0.17.0 in /usr/local/lib/python3.10/dist-packages (from darts) (2023.7.0)\n",
            "Requirement already satisfied: xgboost>=1.6.0 in /usr/local/lib/python3.10/dist-packages (from darts) (2.0.3)\n",
            "Requirement already satisfied: pytorch-lightning>=1.5.0 in /usr/local/lib/python3.10/dist-packages (from darts) (2.2.1)\n",
            "Requirement already satisfied: tensorboardX>=2.1 in /usr/local/lib/python3.10/dist-packages (from darts) (2.6.2.2)\n",
            "Requirement already satisfied: torch>=1.8.0 in /usr/local/lib/python3.10/dist-packages (from darts) (2.2.1+cu121)\n",
            "Requirement already satisfied: pandas>=1.0.5 in /usr/local/lib/python3.10/dist-packages (from darts) (2.0.3)\n",
            "Requirement already satisfied: python-dateutil in /usr/local/lib/python3.10/dist-packages (from holidays>=0.11.1->darts) (2.8.2)\n",
            "Requirement already satisfied: contourpy>=1.0.1 in /usr/local/lib/python3.10/dist-packages (from matplotlib>=3.3.0->darts) (1.2.0)\n",
            "Requirement already satisfied: cycler>=0.10 in /usr/local/lib/python3.10/dist-packages (from matplotlib>=3.3.0->darts) (0.12.1)\n",
            "Requirement already satisfied: fonttools>=4.22.0 in /usr/local/lib/python3.10/dist-packages (from matplotlib>=3.3.0->darts) (4.50.0)\n",
            "Requirement already satisfied: kiwisolver>=1.3.1 in /usr/local/lib/python3.10/dist-packages (from matplotlib>=3.3.0->darts) (1.4.5)\n",
            "Requirement already satisfied: packaging>=20.0 in /usr/local/lib/python3.10/dist-packages (from matplotlib>=3.3.0->darts) (24.0)\n",
            "Requirement already satisfied: pillow>=8 in /usr/local/lib/python3.10/dist-packages (from matplotlib>=3.3.0->darts) (9.4.0)\n",
            "Requirement already satisfied: pyparsing>=2.3.1 in /usr/local/lib/python3.10/dist-packages (from matplotlib>=3.3.0->darts) (3.1.2)\n",
            "Requirement already satisfied: pytz>=2020.1 in /usr/local/lib/python3.10/dist-packages (from pandas>=1.0.5->darts) (2023.4)\n",
            "Requirement already satisfied: tzdata>=2022.1 in /usr/local/lib/python3.10/dist-packages (from pandas>=1.0.5->darts) (2024.1)\n",
            "Requirement already satisfied: Cython!=0.29.18,!=0.29.31,>=0.29 in /usr/local/lib/python3.10/dist-packages (from pmdarima>=1.8.0->darts) (3.0.10)\n",
            "Requirement already satisfied: urllib3 in /usr/local/lib/python3.10/dist-packages (from pmdarima>=1.8.0->darts) (2.0.7)\n",
            "Requirement already satisfied: setuptools!=50.0.0,>=38.6.0 in /usr/local/lib/python3.10/dist-packages (from pmdarima>=1.8.0->darts) (67.7.2)\n",
            "Requirement already satisfied: numba>=0.51 in /usr/local/lib/python3.10/dist-packages (from pyod>=0.9.5->darts) (0.58.1)\n",
            "Requirement already satisfied: six in /usr/local/lib/python3.10/dist-packages (from pyod>=0.9.5->darts) (1.16.0)\n",
            "Requirement already satisfied: PyYAML>=5.4 in /usr/local/lib/python3.10/dist-packages (from pytorch-lightning>=1.5.0->darts) (6.0.1)\n",
            "Requirement already satisfied: fsspec[http]>=2022.5.0 in /usr/local/lib/python3.10/dist-packages (from pytorch-lightning>=1.5.0->darts) (2023.6.0)\n",
            "Requirement already satisfied: torchmetrics>=0.7.0 in /usr/local/lib/python3.10/dist-packages (from pytorch-lightning>=1.5.0->darts) (1.3.2)\n",
            "Requirement already satisfied: lightning-utilities>=0.8.0 in /usr/local/lib/python3.10/dist-packages (from pytorch-lightning>=1.5.0->darts) (0.11.2)\n",
            "Requirement already satisfied: charset-normalizer<4,>=2 in /usr/local/lib/python3.10/dist-packages (from requests>=2.22.0->darts) (3.3.2)\n",
            "Requirement already satisfied: idna<4,>=2.5 in /usr/local/lib/python3.10/dist-packages (from requests>=2.22.0->darts) (3.6)\n",
            "Requirement already satisfied: certifi>=2017.4.17 in /usr/local/lib/python3.10/dist-packages (from requests>=2.22.0->darts) (2024.2.2)\n",
            "Requirement already satisfied: threadpoolctl>=2.0.0 in /usr/local/lib/python3.10/dist-packages (from scikit-learn>=1.0.1->darts) (3.4.0)\n",
            "Requirement already satisfied: slicer==0.0.7 in /usr/local/lib/python3.10/dist-packages (from shap>=0.40.0->darts) (0.0.7)\n",
            "Requirement already satisfied: cloudpickle in /usr/local/lib/python3.10/dist-packages (from shap>=0.40.0->darts) (2.2.1)\n",
            "Requirement already satisfied: fugue>=0.8.1 in /usr/local/lib/python3.10/dist-packages (from statsforecast>=1.4->darts) (0.8.7)\n",
            "Requirement already satisfied: utilsforecast>=0.0.24 in /usr/local/lib/python3.10/dist-packages (from statsforecast>=1.4->darts) (0.1.2)\n",
            "Requirement already satisfied: patsy>=0.5.4 in /usr/local/lib/python3.10/dist-packages (from statsmodels>=0.14.0->darts) (0.5.6)\n",
            "Requirement already satisfied: protobuf>=3.20 in /usr/local/lib/python3.10/dist-packages (from tensorboardX>=2.1->darts) (3.20.3)\n",
            "Requirement already satisfied: filelock in /usr/local/lib/python3.10/dist-packages (from torch>=1.8.0->darts) (3.13.3)\n",
            "Requirement already satisfied: sympy in /usr/local/lib/python3.10/dist-packages (from torch>=1.8.0->darts) (1.12)\n",
            "Requirement already satisfied: networkx in /usr/local/lib/python3.10/dist-packages (from torch>=1.8.0->darts) (3.2.1)\n",
            "Requirement already satisfied: jinja2 in /usr/local/lib/python3.10/dist-packages (from torch>=1.8.0->darts) (3.1.3)\n",
            "Requirement already satisfied: nvidia-cuda-nvrtc-cu12==12.1.105 in /usr/local/lib/python3.10/dist-packages (from torch>=1.8.0->darts) (12.1.105)\n",
            "Requirement already satisfied: nvidia-cuda-runtime-cu12==12.1.105 in /usr/local/lib/python3.10/dist-packages (from torch>=1.8.0->darts) (12.1.105)\n",
            "Requirement already satisfied: nvidia-cuda-cupti-cu12==12.1.105 in /usr/local/lib/python3.10/dist-packages (from torch>=1.8.0->darts) (12.1.105)\n",
            "Requirement already satisfied: nvidia-cudnn-cu12==8.9.2.26 in /usr/local/lib/python3.10/dist-packages (from torch>=1.8.0->darts) (8.9.2.26)\n",
            "Requirement already satisfied: nvidia-cublas-cu12==12.1.3.1 in /usr/local/lib/python3.10/dist-packages (from torch>=1.8.0->darts) (12.1.3.1)\n",
            "Requirement already satisfied: nvidia-cufft-cu12==11.0.2.54 in /usr/local/lib/python3.10/dist-packages (from torch>=1.8.0->darts) (11.0.2.54)\n",
            "Requirement already satisfied: nvidia-curand-cu12==10.3.2.106 in /usr/local/lib/python3.10/dist-packages (from torch>=1.8.0->darts) (10.3.2.106)\n",
            "Requirement already satisfied: nvidia-cusolver-cu12==11.4.5.107 in /usr/local/lib/python3.10/dist-packages (from torch>=1.8.0->darts) (11.4.5.107)\n",
            "Requirement already satisfied: nvidia-cusparse-cu12==12.1.0.106 in /usr/local/lib/python3.10/dist-packages (from torch>=1.8.0->darts) (12.1.0.106)\n",
            "Requirement already satisfied: nvidia-nccl-cu12==2.19.3 in /usr/local/lib/python3.10/dist-packages (from torch>=1.8.0->darts) (2.19.3)\n",
            "Requirement already satisfied: nvidia-nvtx-cu12==12.1.105 in /usr/local/lib/python3.10/dist-packages (from torch>=1.8.0->darts) (12.1.105)\n",
            "Requirement already satisfied: triton==2.2.0 in /usr/local/lib/python3.10/dist-packages (from torch>=1.8.0->darts) (2.2.0)\n",
            "Requirement already satisfied: nvidia-nvjitlink-cu12 in /usr/local/lib/python3.10/dist-packages (from nvidia-cusolver-cu12==11.4.5.107->torch>=1.8.0->darts) (12.4.127)\n",
            "Requirement already satisfied: aiohttp!=4.0.0a0,!=4.0.0a1 in /usr/local/lib/python3.10/dist-packages (from fsspec[http]>=2022.5.0->pytorch-lightning>=1.5.0->darts) (3.9.3)\n",
            "Requirement already satisfied: triad>=0.9.3 in /usr/local/lib/python3.10/dist-packages (from fugue>=0.8.1->statsforecast>=1.4->darts) (0.9.6)\n",
            "Requirement already satisfied: adagio>=0.2.4 in /usr/local/lib/python3.10/dist-packages (from fugue>=0.8.1->statsforecast>=1.4->darts) (0.2.4)\n",
            "Requirement already satisfied: qpd>=0.4.4 in /usr/local/lib/python3.10/dist-packages (from fugue>=0.8.1->statsforecast>=1.4->darts) (0.4.4)\n",
            "Requirement already satisfied: fugue-sql-antlr>=0.1.6 in /usr/local/lib/python3.10/dist-packages (from fugue>=0.8.1->statsforecast>=1.4->darts) (0.2.0)\n",
            "Requirement already satisfied: sqlglot in /usr/local/lib/python3.10/dist-packages (from fugue>=0.8.1->statsforecast>=1.4->darts) (20.11.0)\n",
            "Requirement already satisfied: llvmlite<0.42,>=0.41.0dev0 in /usr/local/lib/python3.10/dist-packages (from numba>=0.51->pyod>=0.9.5->darts) (0.41.1)\n",
            "Requirement already satisfied: MarkupSafe>=2.0 in /usr/local/lib/python3.10/dist-packages (from jinja2->torch>=1.8.0->darts) (2.1.5)\n",
            "Requirement already satisfied: mpmath>=0.19 in /usr/local/lib/python3.10/dist-packages (from sympy->torch>=1.8.0->darts) (1.3.0)\n",
            "Requirement already satisfied: aiosignal>=1.1.2 in /usr/local/lib/python3.10/dist-packages (from aiohttp!=4.0.0a0,!=4.0.0a1->fsspec[http]>=2022.5.0->pytorch-lightning>=1.5.0->darts) (1.3.1)\n",
            "Requirement already satisfied: attrs>=17.3.0 in /usr/local/lib/python3.10/dist-packages (from aiohttp!=4.0.0a0,!=4.0.0a1->fsspec[http]>=2022.5.0->pytorch-lightning>=1.5.0->darts) (23.2.0)\n",
            "Requirement already satisfied: frozenlist>=1.1.1 in /usr/local/lib/python3.10/dist-packages (from aiohttp!=4.0.0a0,!=4.0.0a1->fsspec[http]>=2022.5.0->pytorch-lightning>=1.5.0->darts) (1.4.1)\n",
            "Requirement already satisfied: multidict<7.0,>=4.5 in /usr/local/lib/python3.10/dist-packages (from aiohttp!=4.0.0a0,!=4.0.0a1->fsspec[http]>=2022.5.0->pytorch-lightning>=1.5.0->darts) (6.0.5)\n",
            "Requirement already satisfied: yarl<2.0,>=1.0 in /usr/local/lib/python3.10/dist-packages (from aiohttp!=4.0.0a0,!=4.0.0a1->fsspec[http]>=2022.5.0->pytorch-lightning>=1.5.0->darts) (1.9.4)\n",
            "Requirement already satisfied: async-timeout<5.0,>=4.0 in /usr/local/lib/python3.10/dist-packages (from aiohttp!=4.0.0a0,!=4.0.0a1->fsspec[http]>=2022.5.0->pytorch-lightning>=1.5.0->darts) (4.0.3)\n",
            "Requirement already satisfied: antlr4-python3-runtime<4.12 in /usr/local/lib/python3.10/dist-packages (from fugue-sql-antlr>=0.1.6->fugue>=0.8.1->statsforecast>=1.4->darts) (4.11.1)\n",
            "Requirement already satisfied: pyarrow>=6.0.1 in /usr/local/lib/python3.10/dist-packages (from triad>=0.9.3->fugue>=0.8.1->statsforecast>=1.4->darts) (14.0.2)\n",
            "Requirement already satisfied: fs in /usr/local/lib/python3.10/dist-packages (from triad>=0.9.3->fugue>=0.8.1->statsforecast>=1.4->darts) (2.4.16)\n",
            "Requirement already satisfied: appdirs~=1.4.3 in /usr/local/lib/python3.10/dist-packages (from fs->triad>=0.9.3->fugue>=0.8.1->statsforecast>=1.4->darts) (1.4.4)\n",
            "Installing collected packages: matplotlib\n",
            "  Attempting uninstall: matplotlib\n",
            "    Found existing installation: matplotlib 3.1.3\n",
            "    Uninstalling matplotlib-3.1.3:\n",
            "      Successfully uninstalled matplotlib-3.1.3\n",
            "Successfully installed matplotlib-3.8.4\n"
          ]
        },
        {
          "output_type": "display_data",
          "data": {
            "application/vnd.colab-display-data+json": {
              "pip_warning": {
                "packages": [
                  "matplotlib",
                  "mpl_toolkits"
                ]
              },
              "id": "0631b62bda6b4381b408165b3ea4235b"
            }
          },
          "metadata": {}
        }
      ]
    },
    {
      "cell_type": "markdown",
      "metadata": {
        "id": "tDiC7dCbF2uW"
      },
      "source": [
        "# Loading Datasets"
      ]
    },
    {
      "cell_type": "code",
      "metadata": {
        "id": "Ibb_mPuSM6uV"
      },
      "source": [
        "from darts.datasets import AirPassengersDataset"
      ],
      "execution_count": null,
      "outputs": []
    },
    {
      "cell_type": "markdown",
      "metadata": {
        "id": "VnKinwtE2k1I"
      },
      "source": [
        "**AirPassengers** Dataset about how many passenger rode on a particular date"
      ]
    },
    {
      "cell_type": "markdown",
      "metadata": {
        "id": "guREqU6nUEXX"
      },
      "source": [
        "## Checking The Data"
      ]
    },
    {
      "cell_type": "code",
      "metadata": {
        "colab": {
          "base_uri": "https://localhost:8080/",
          "height": 924
        },
        "id": "NmbS6f_o4aNP",
        "outputId": "fd2f93bd-e620-46bb-a5c7-8e6ea10bac52"
      },
      "source": [
        "# checking raw\n",
        "AirPassengersDataset().load()\n"
      ],
      "execution_count": null,
      "outputs": [
        {
          "output_type": "execute_result",
          "data": {
            "text/plain": [
              "<TimeSeries (DataArray) (Month: 144, component: 1, sample: 1)>\n",
              "array([[[112.]],\n",
              "\n",
              "       [[118.]],\n",
              "\n",
              "       [[132.]],\n",
              "\n",
              "       [[129.]],\n",
              "\n",
              "       [[121.]],\n",
              "\n",
              "       [[135.]],\n",
              "\n",
              "       [[148.]],\n",
              "\n",
              "       [[148.]],\n",
              "\n",
              "       [[136.]],\n",
              "\n",
              "       [[119.]],\n",
              "\n",
              "...\n",
              "\n",
              "       [[419.]],\n",
              "\n",
              "       [[461.]],\n",
              "\n",
              "       [[472.]],\n",
              "\n",
              "       [[535.]],\n",
              "\n",
              "       [[622.]],\n",
              "\n",
              "       [[606.]],\n",
              "\n",
              "       [[508.]],\n",
              "\n",
              "       [[461.]],\n",
              "\n",
              "       [[390.]],\n",
              "\n",
              "       [[432.]]])\n",
              "Coordinates:\n",
              "  * Month      (Month) datetime64[ns] 1949-01-01 1949-02-01 ... 1960-12-01\n",
              "  * component  (component) object '#Passengers'\n",
              "Dimensions without coordinates: sample\n",
              "Attributes:\n",
              "    static_covariates:  None\n",
              "    hierarchy:          None"
            ],
            "text/html": [
              "<div><svg style=\"position: absolute; width: 0; height: 0; overflow: hidden\">\n",
              "<defs>\n",
              "<symbol id=\"icon-database\" viewBox=\"0 0 32 32\">\n",
              "<path d=\"M16 0c-8.837 0-16 2.239-16 5v4c0 2.761 7.163 5 16 5s16-2.239 16-5v-4c0-2.761-7.163-5-16-5z\"></path>\n",
              "<path d=\"M16 17c-8.837 0-16-2.239-16-5v6c0 2.761 7.163 5 16 5s16-2.239 16-5v-6c0 2.761-7.163 5-16 5z\"></path>\n",
              "<path d=\"M16 26c-8.837 0-16-2.239-16-5v6c0 2.761 7.163 5 16 5s16-2.239 16-5v-6c0 2.761-7.163 5-16 5z\"></path>\n",
              "</symbol>\n",
              "<symbol id=\"icon-file-text2\" viewBox=\"0 0 32 32\">\n",
              "<path d=\"M28.681 7.159c-0.694-0.947-1.662-2.053-2.724-3.116s-2.169-2.030-3.116-2.724c-1.612-1.182-2.393-1.319-2.841-1.319h-15.5c-1.378 0-2.5 1.121-2.5 2.5v27c0 1.378 1.122 2.5 2.5 2.5h23c1.378 0 2.5-1.122 2.5-2.5v-19.5c0-0.448-0.137-1.23-1.319-2.841zM24.543 5.457c0.959 0.959 1.712 1.825 2.268 2.543h-4.811v-4.811c0.718 0.556 1.584 1.309 2.543 2.268zM28 29.5c0 0.271-0.229 0.5-0.5 0.5h-23c-0.271 0-0.5-0.229-0.5-0.5v-27c0-0.271 0.229-0.5 0.5-0.5 0 0 15.499-0 15.5 0v7c0 0.552 0.448 1 1 1h7v19.5z\"></path>\n",
              "<path d=\"M23 26h-14c-0.552 0-1-0.448-1-1s0.448-1 1-1h14c0.552 0 1 0.448 1 1s-0.448 1-1 1z\"></path>\n",
              "<path d=\"M23 22h-14c-0.552 0-1-0.448-1-1s0.448-1 1-1h14c0.552 0 1 0.448 1 1s-0.448 1-1 1z\"></path>\n",
              "<path d=\"M23 18h-14c-0.552 0-1-0.448-1-1s0.448-1 1-1h14c0.552 0 1 0.448 1 1s-0.448 1-1 1z\"></path>\n",
              "</symbol>\n",
              "</defs>\n",
              "</svg>\n",
              "<style>/* CSS stylesheet for displaying xarray objects in jupyterlab.\n",
              " *\n",
              " */\n",
              "\n",
              ":root {\n",
              "  --xr-font-color0: var(--jp-content-font-color0, rgba(0, 0, 0, 1));\n",
              "  --xr-font-color2: var(--jp-content-font-color2, rgba(0, 0, 0, 0.54));\n",
              "  --xr-font-color3: var(--jp-content-font-color3, rgba(0, 0, 0, 0.38));\n",
              "  --xr-border-color: var(--jp-border-color2, #e0e0e0);\n",
              "  --xr-disabled-color: var(--jp-layout-color3, #bdbdbd);\n",
              "  --xr-background-color: var(--jp-layout-color0, white);\n",
              "  --xr-background-color-row-even: var(--jp-layout-color1, white);\n",
              "  --xr-background-color-row-odd: var(--jp-layout-color2, #eeeeee);\n",
              "}\n",
              "\n",
              "html[theme=dark],\n",
              "body[data-theme=dark],\n",
              "body.vscode-dark {\n",
              "  --xr-font-color0: rgba(255, 255, 255, 1);\n",
              "  --xr-font-color2: rgba(255, 255, 255, 0.54);\n",
              "  --xr-font-color3: rgba(255, 255, 255, 0.38);\n",
              "  --xr-border-color: #1F1F1F;\n",
              "  --xr-disabled-color: #515151;\n",
              "  --xr-background-color: #111111;\n",
              "  --xr-background-color-row-even: #111111;\n",
              "  --xr-background-color-row-odd: #313131;\n",
              "}\n",
              "\n",
              ".xr-wrap {\n",
              "  display: block !important;\n",
              "  min-width: 300px;\n",
              "  max-width: 700px;\n",
              "}\n",
              "\n",
              ".xr-text-repr-fallback {\n",
              "  /* fallback to plain text repr when CSS is not injected (untrusted notebook) */\n",
              "  display: none;\n",
              "}\n",
              "\n",
              ".xr-header {\n",
              "  padding-top: 6px;\n",
              "  padding-bottom: 6px;\n",
              "  margin-bottom: 4px;\n",
              "  border-bottom: solid 1px var(--xr-border-color);\n",
              "}\n",
              "\n",
              ".xr-header > div,\n",
              ".xr-header > ul {\n",
              "  display: inline;\n",
              "  margin-top: 0;\n",
              "  margin-bottom: 0;\n",
              "}\n",
              "\n",
              ".xr-obj-type,\n",
              ".xr-array-name {\n",
              "  margin-left: 2px;\n",
              "  margin-right: 10px;\n",
              "}\n",
              "\n",
              ".xr-obj-type {\n",
              "  color: var(--xr-font-color2);\n",
              "}\n",
              "\n",
              ".xr-sections {\n",
              "  padding-left: 0 !important;\n",
              "  display: grid;\n",
              "  grid-template-columns: 150px auto auto 1fr 20px 20px;\n",
              "}\n",
              "\n",
              ".xr-section-item {\n",
              "  display: contents;\n",
              "}\n",
              "\n",
              ".xr-section-item input {\n",
              "  display: none;\n",
              "}\n",
              "\n",
              ".xr-section-item input + label {\n",
              "  color: var(--xr-disabled-color);\n",
              "}\n",
              "\n",
              ".xr-section-item input:enabled + label {\n",
              "  cursor: pointer;\n",
              "  color: var(--xr-font-color2);\n",
              "}\n",
              "\n",
              ".xr-section-item input:enabled + label:hover {\n",
              "  color: var(--xr-font-color0);\n",
              "}\n",
              "\n",
              ".xr-section-summary {\n",
              "  grid-column: 1;\n",
              "  color: var(--xr-font-color2);\n",
              "  font-weight: 500;\n",
              "}\n",
              "\n",
              ".xr-section-summary > span {\n",
              "  display: inline-block;\n",
              "  padding-left: 0.5em;\n",
              "}\n",
              "\n",
              ".xr-section-summary-in:disabled + label {\n",
              "  color: var(--xr-font-color2);\n",
              "}\n",
              "\n",
              ".xr-section-summary-in + label:before {\n",
              "  display: inline-block;\n",
              "  content: '►';\n",
              "  font-size: 11px;\n",
              "  width: 15px;\n",
              "  text-align: center;\n",
              "}\n",
              "\n",
              ".xr-section-summary-in:disabled + label:before {\n",
              "  color: var(--xr-disabled-color);\n",
              "}\n",
              "\n",
              ".xr-section-summary-in:checked + label:before {\n",
              "  content: '▼';\n",
              "}\n",
              "\n",
              ".xr-section-summary-in:checked + label > span {\n",
              "  display: none;\n",
              "}\n",
              "\n",
              ".xr-section-summary,\n",
              ".xr-section-inline-details {\n",
              "  padding-top: 4px;\n",
              "  padding-bottom: 4px;\n",
              "}\n",
              "\n",
              ".xr-section-inline-details {\n",
              "  grid-column: 2 / -1;\n",
              "}\n",
              "\n",
              ".xr-section-details {\n",
              "  display: none;\n",
              "  grid-column: 1 / -1;\n",
              "  margin-bottom: 5px;\n",
              "}\n",
              "\n",
              ".xr-section-summary-in:checked ~ .xr-section-details {\n",
              "  display: contents;\n",
              "}\n",
              "\n",
              ".xr-array-wrap {\n",
              "  grid-column: 1 / -1;\n",
              "  display: grid;\n",
              "  grid-template-columns: 20px auto;\n",
              "}\n",
              "\n",
              ".xr-array-wrap > label {\n",
              "  grid-column: 1;\n",
              "  vertical-align: top;\n",
              "}\n",
              "\n",
              ".xr-preview {\n",
              "  color: var(--xr-font-color3);\n",
              "}\n",
              "\n",
              ".xr-array-preview,\n",
              ".xr-array-data {\n",
              "  padding: 0 5px !important;\n",
              "  grid-column: 2;\n",
              "}\n",
              "\n",
              ".xr-array-data,\n",
              ".xr-array-in:checked ~ .xr-array-preview {\n",
              "  display: none;\n",
              "}\n",
              "\n",
              ".xr-array-in:checked ~ .xr-array-data,\n",
              ".xr-array-preview {\n",
              "  display: inline-block;\n",
              "}\n",
              "\n",
              ".xr-dim-list {\n",
              "  display: inline-block !important;\n",
              "  list-style: none;\n",
              "  padding: 0 !important;\n",
              "  margin: 0;\n",
              "}\n",
              "\n",
              ".xr-dim-list li {\n",
              "  display: inline-block;\n",
              "  padding: 0;\n",
              "  margin: 0;\n",
              "}\n",
              "\n",
              ".xr-dim-list:before {\n",
              "  content: '(';\n",
              "}\n",
              "\n",
              ".xr-dim-list:after {\n",
              "  content: ')';\n",
              "}\n",
              "\n",
              ".xr-dim-list li:not(:last-child):after {\n",
              "  content: ',';\n",
              "  padding-right: 5px;\n",
              "}\n",
              "\n",
              ".xr-has-index {\n",
              "  font-weight: bold;\n",
              "}\n",
              "\n",
              ".xr-var-list,\n",
              ".xr-var-item {\n",
              "  display: contents;\n",
              "}\n",
              "\n",
              ".xr-var-item > div,\n",
              ".xr-var-item label,\n",
              ".xr-var-item > .xr-var-name span {\n",
              "  background-color: var(--xr-background-color-row-even);\n",
              "  margin-bottom: 0;\n",
              "}\n",
              "\n",
              ".xr-var-item > .xr-var-name:hover span {\n",
              "  padding-right: 5px;\n",
              "}\n",
              "\n",
              ".xr-var-list > li:nth-child(odd) > div,\n",
              ".xr-var-list > li:nth-child(odd) > label,\n",
              ".xr-var-list > li:nth-child(odd) > .xr-var-name span {\n",
              "  background-color: var(--xr-background-color-row-odd);\n",
              "}\n",
              "\n",
              ".xr-var-name {\n",
              "  grid-column: 1;\n",
              "}\n",
              "\n",
              ".xr-var-dims {\n",
              "  grid-column: 2;\n",
              "}\n",
              "\n",
              ".xr-var-dtype {\n",
              "  grid-column: 3;\n",
              "  text-align: right;\n",
              "  color: var(--xr-font-color2);\n",
              "}\n",
              "\n",
              ".xr-var-preview {\n",
              "  grid-column: 4;\n",
              "}\n",
              "\n",
              ".xr-index-preview {\n",
              "  grid-column: 2 / 5;\n",
              "  color: var(--xr-font-color2);\n",
              "}\n",
              "\n",
              ".xr-var-name,\n",
              ".xr-var-dims,\n",
              ".xr-var-dtype,\n",
              ".xr-preview,\n",
              ".xr-attrs dt {\n",
              "  white-space: nowrap;\n",
              "  overflow: hidden;\n",
              "  text-overflow: ellipsis;\n",
              "  padding-right: 10px;\n",
              "}\n",
              "\n",
              ".xr-var-name:hover,\n",
              ".xr-var-dims:hover,\n",
              ".xr-var-dtype:hover,\n",
              ".xr-attrs dt:hover {\n",
              "  overflow: visible;\n",
              "  width: auto;\n",
              "  z-index: 1;\n",
              "}\n",
              "\n",
              ".xr-var-attrs,\n",
              ".xr-var-data,\n",
              ".xr-index-data {\n",
              "  display: none;\n",
              "  background-color: var(--xr-background-color) !important;\n",
              "  padding-bottom: 5px !important;\n",
              "}\n",
              "\n",
              ".xr-var-attrs-in:checked ~ .xr-var-attrs,\n",
              ".xr-var-data-in:checked ~ .xr-var-data,\n",
              ".xr-index-data-in:checked ~ .xr-index-data {\n",
              "  display: block;\n",
              "}\n",
              "\n",
              ".xr-var-data > table {\n",
              "  float: right;\n",
              "}\n",
              "\n",
              ".xr-var-name span,\n",
              ".xr-var-data,\n",
              ".xr-index-name div,\n",
              ".xr-index-data,\n",
              ".xr-attrs {\n",
              "  padding-left: 25px !important;\n",
              "}\n",
              "\n",
              ".xr-attrs,\n",
              ".xr-var-attrs,\n",
              ".xr-var-data,\n",
              ".xr-index-data {\n",
              "  grid-column: 1 / -1;\n",
              "}\n",
              "\n",
              "dl.xr-attrs {\n",
              "  padding: 0;\n",
              "  margin: 0;\n",
              "  display: grid;\n",
              "  grid-template-columns: 125px auto;\n",
              "}\n",
              "\n",
              ".xr-attrs dt,\n",
              ".xr-attrs dd {\n",
              "  padding: 0;\n",
              "  margin: 0;\n",
              "  float: left;\n",
              "  padding-right: 10px;\n",
              "  width: auto;\n",
              "}\n",
              "\n",
              ".xr-attrs dt {\n",
              "  font-weight: normal;\n",
              "  grid-column: 1;\n",
              "}\n",
              "\n",
              ".xr-attrs dt:hover span {\n",
              "  display: inline-block;\n",
              "  background: var(--xr-background-color);\n",
              "  padding-right: 10px;\n",
              "}\n",
              "\n",
              ".xr-attrs dd {\n",
              "  grid-column: 2;\n",
              "  white-space: pre-wrap;\n",
              "  word-break: break-all;\n",
              "}\n",
              "\n",
              ".xr-icon-database,\n",
              ".xr-icon-file-text2,\n",
              ".xr-no-icon {\n",
              "  display: inline-block;\n",
              "  vertical-align: middle;\n",
              "  width: 1em;\n",
              "  height: 1.5em !important;\n",
              "  stroke-width: 0;\n",
              "  stroke: currentColor;\n",
              "  fill: currentColor;\n",
              "}\n",
              "</style><pre class='xr-text-repr-fallback'>&lt;TimeSeries (DataArray) (Month: 144, component: 1, sample: 1)&gt;\n",
              "array([[[112.]],\n",
              "\n",
              "       [[118.]],\n",
              "\n",
              "       [[132.]],\n",
              "\n",
              "       [[129.]],\n",
              "\n",
              "       [[121.]],\n",
              "\n",
              "       [[135.]],\n",
              "\n",
              "       [[148.]],\n",
              "\n",
              "       [[148.]],\n",
              "\n",
              "       [[136.]],\n",
              "\n",
              "       [[119.]],\n",
              "\n",
              "...\n",
              "\n",
              "       [[419.]],\n",
              "\n",
              "       [[461.]],\n",
              "\n",
              "       [[472.]],\n",
              "\n",
              "       [[535.]],\n",
              "\n",
              "       [[622.]],\n",
              "\n",
              "       [[606.]],\n",
              "\n",
              "       [[508.]],\n",
              "\n",
              "       [[461.]],\n",
              "\n",
              "       [[390.]],\n",
              "\n",
              "       [[432.]]])\n",
              "Coordinates:\n",
              "  * Month      (Month) datetime64[ns] 1949-01-01 1949-02-01 ... 1960-12-01\n",
              "  * component  (component) object &#x27;#Passengers&#x27;\n",
              "Dimensions without coordinates: sample\n",
              "Attributes:\n",
              "    static_covariates:  None\n",
              "    hierarchy:          None</pre><div class='xr-wrap' style='display:none'><div class='xr-header'><div class='xr-obj-type'>TimeSeries (DataArray)</div><div class='xr-array-name'></div><ul class='xr-dim-list'><li><span class='xr-has-index'>Month</span>: 144</li><li><span class='xr-has-index'>component</span>: 1</li><li><span>sample</span>: 1</li></ul></div><ul class='xr-sections'><li class='xr-section-item'><div class='xr-array-wrap'><input id='section-4963cd5e-8811-4cb0-b4f2-9d8b2956ba4a' class='xr-array-in' type='checkbox' checked><label for='section-4963cd5e-8811-4cb0-b4f2-9d8b2956ba4a' title='Show/hide data repr'><svg class='icon xr-icon-database'><use xlink:href='#icon-database'></use></svg></label><div class='xr-array-preview xr-preview'><span>112.0 118.0 132.0 129.0 121.0 135.0 ... 606.0 508.0 461.0 390.0 432.0</span></div><div class='xr-array-data'><pre>array([[[112.]],\n",
              "\n",
              "       [[118.]],\n",
              "\n",
              "       [[132.]],\n",
              "\n",
              "       [[129.]],\n",
              "\n",
              "       [[121.]],\n",
              "\n",
              "       [[135.]],\n",
              "\n",
              "       [[148.]],\n",
              "\n",
              "       [[148.]],\n",
              "\n",
              "       [[136.]],\n",
              "\n",
              "       [[119.]],\n",
              "\n",
              "...\n",
              "\n",
              "       [[419.]],\n",
              "\n",
              "       [[461.]],\n",
              "\n",
              "       [[472.]],\n",
              "\n",
              "       [[535.]],\n",
              "\n",
              "       [[622.]],\n",
              "\n",
              "       [[606.]],\n",
              "\n",
              "       [[508.]],\n",
              "\n",
              "       [[461.]],\n",
              "\n",
              "       [[390.]],\n",
              "\n",
              "       [[432.]]])</pre></div></div></li><li class='xr-section-item'><input id='section-e3139d50-7b11-4623-8f0a-a72a8d3e24be' class='xr-section-summary-in' type='checkbox'  checked><label for='section-e3139d50-7b11-4623-8f0a-a72a8d3e24be' class='xr-section-summary' >Coordinates: <span>(2)</span></label><div class='xr-section-inline-details'></div><div class='xr-section-details'><ul class='xr-var-list'><li class='xr-var-item'><div class='xr-var-name'><span class='xr-has-index'>Month</span></div><div class='xr-var-dims'>(Month)</div><div class='xr-var-dtype'>datetime64[ns]</div><div class='xr-var-preview xr-preview'>1949-01-01 ... 1960-12-01</div><input id='attrs-ceeff62a-c77f-422e-b6bc-47e756c70e2e' class='xr-var-attrs-in' type='checkbox' disabled><label for='attrs-ceeff62a-c77f-422e-b6bc-47e756c70e2e' title='Show/Hide attributes'><svg class='icon xr-icon-file-text2'><use xlink:href='#icon-file-text2'></use></svg></label><input id='data-9086bdcd-bfe8-4cad-8774-34065bd4b050' class='xr-var-data-in' type='checkbox'><label for='data-9086bdcd-bfe8-4cad-8774-34065bd4b050' title='Show/Hide data repr'><svg class='icon xr-icon-database'><use xlink:href='#icon-database'></use></svg></label><div class='xr-var-attrs'><dl class='xr-attrs'></dl></div><div class='xr-var-data'><pre>array([&#x27;1949-01-01T00:00:00.000000000&#x27;, &#x27;1949-02-01T00:00:00.000000000&#x27;,\n",
              "       &#x27;1949-03-01T00:00:00.000000000&#x27;, &#x27;1949-04-01T00:00:00.000000000&#x27;,\n",
              "       &#x27;1949-05-01T00:00:00.000000000&#x27;, &#x27;1949-06-01T00:00:00.000000000&#x27;,\n",
              "       &#x27;1949-07-01T00:00:00.000000000&#x27;, &#x27;1949-08-01T00:00:00.000000000&#x27;,\n",
              "       &#x27;1949-09-01T00:00:00.000000000&#x27;, &#x27;1949-10-01T00:00:00.000000000&#x27;,\n",
              "       &#x27;1949-11-01T00:00:00.000000000&#x27;, &#x27;1949-12-01T00:00:00.000000000&#x27;,\n",
              "       &#x27;1950-01-01T00:00:00.000000000&#x27;, &#x27;1950-02-01T00:00:00.000000000&#x27;,\n",
              "       &#x27;1950-03-01T00:00:00.000000000&#x27;, &#x27;1950-04-01T00:00:00.000000000&#x27;,\n",
              "       &#x27;1950-05-01T00:00:00.000000000&#x27;, &#x27;1950-06-01T00:00:00.000000000&#x27;,\n",
              "       &#x27;1950-07-01T00:00:00.000000000&#x27;, &#x27;1950-08-01T00:00:00.000000000&#x27;,\n",
              "       &#x27;1950-09-01T00:00:00.000000000&#x27;, &#x27;1950-10-01T00:00:00.000000000&#x27;,\n",
              "       &#x27;1950-11-01T00:00:00.000000000&#x27;, &#x27;1950-12-01T00:00:00.000000000&#x27;,\n",
              "       &#x27;1951-01-01T00:00:00.000000000&#x27;, &#x27;1951-02-01T00:00:00.000000000&#x27;,\n",
              "       &#x27;1951-03-01T00:00:00.000000000&#x27;, &#x27;1951-04-01T00:00:00.000000000&#x27;,\n",
              "       &#x27;1951-05-01T00:00:00.000000000&#x27;, &#x27;1951-06-01T00:00:00.000000000&#x27;,\n",
              "       &#x27;1951-07-01T00:00:00.000000000&#x27;, &#x27;1951-08-01T00:00:00.000000000&#x27;,\n",
              "       &#x27;1951-09-01T00:00:00.000000000&#x27;, &#x27;1951-10-01T00:00:00.000000000&#x27;,\n",
              "       &#x27;1951-11-01T00:00:00.000000000&#x27;, &#x27;1951-12-01T00:00:00.000000000&#x27;,\n",
              "       &#x27;1952-01-01T00:00:00.000000000&#x27;, &#x27;1952-02-01T00:00:00.000000000&#x27;,\n",
              "       &#x27;1952-03-01T00:00:00.000000000&#x27;, &#x27;1952-04-01T00:00:00.000000000&#x27;,\n",
              "       &#x27;1952-05-01T00:00:00.000000000&#x27;, &#x27;1952-06-01T00:00:00.000000000&#x27;,\n",
              "       &#x27;1952-07-01T00:00:00.000000000&#x27;, &#x27;1952-08-01T00:00:00.000000000&#x27;,\n",
              "       &#x27;1952-09-01T00:00:00.000000000&#x27;, &#x27;1952-10-01T00:00:00.000000000&#x27;,\n",
              "       &#x27;1952-11-01T00:00:00.000000000&#x27;, &#x27;1952-12-01T00:00:00.000000000&#x27;,\n",
              "       &#x27;1953-01-01T00:00:00.000000000&#x27;, &#x27;1953-02-01T00:00:00.000000000&#x27;,\n",
              "       &#x27;1953-03-01T00:00:00.000000000&#x27;, &#x27;1953-04-01T00:00:00.000000000&#x27;,\n",
              "       &#x27;1953-05-01T00:00:00.000000000&#x27;, &#x27;1953-06-01T00:00:00.000000000&#x27;,\n",
              "       &#x27;1953-07-01T00:00:00.000000000&#x27;, &#x27;1953-08-01T00:00:00.000000000&#x27;,\n",
              "       &#x27;1953-09-01T00:00:00.000000000&#x27;, &#x27;1953-10-01T00:00:00.000000000&#x27;,\n",
              "       &#x27;1953-11-01T00:00:00.000000000&#x27;, &#x27;1953-12-01T00:00:00.000000000&#x27;,\n",
              "       &#x27;1954-01-01T00:00:00.000000000&#x27;, &#x27;1954-02-01T00:00:00.000000000&#x27;,\n",
              "       &#x27;1954-03-01T00:00:00.000000000&#x27;, &#x27;1954-04-01T00:00:00.000000000&#x27;,\n",
              "       &#x27;1954-05-01T00:00:00.000000000&#x27;, &#x27;1954-06-01T00:00:00.000000000&#x27;,\n",
              "       &#x27;1954-07-01T00:00:00.000000000&#x27;, &#x27;1954-08-01T00:00:00.000000000&#x27;,\n",
              "       &#x27;1954-09-01T00:00:00.000000000&#x27;, &#x27;1954-10-01T00:00:00.000000000&#x27;,\n",
              "       &#x27;1954-11-01T00:00:00.000000000&#x27;, &#x27;1954-12-01T00:00:00.000000000&#x27;,\n",
              "       &#x27;1955-01-01T00:00:00.000000000&#x27;, &#x27;1955-02-01T00:00:00.000000000&#x27;,\n",
              "       &#x27;1955-03-01T00:00:00.000000000&#x27;, &#x27;1955-04-01T00:00:00.000000000&#x27;,\n",
              "       &#x27;1955-05-01T00:00:00.000000000&#x27;, &#x27;1955-06-01T00:00:00.000000000&#x27;,\n",
              "       &#x27;1955-07-01T00:00:00.000000000&#x27;, &#x27;1955-08-01T00:00:00.000000000&#x27;,\n",
              "       &#x27;1955-09-01T00:00:00.000000000&#x27;, &#x27;1955-10-01T00:00:00.000000000&#x27;,\n",
              "       &#x27;1955-11-01T00:00:00.000000000&#x27;, &#x27;1955-12-01T00:00:00.000000000&#x27;,\n",
              "       &#x27;1956-01-01T00:00:00.000000000&#x27;, &#x27;1956-02-01T00:00:00.000000000&#x27;,\n",
              "       &#x27;1956-03-01T00:00:00.000000000&#x27;, &#x27;1956-04-01T00:00:00.000000000&#x27;,\n",
              "       &#x27;1956-05-01T00:00:00.000000000&#x27;, &#x27;1956-06-01T00:00:00.000000000&#x27;,\n",
              "       &#x27;1956-07-01T00:00:00.000000000&#x27;, &#x27;1956-08-01T00:00:00.000000000&#x27;,\n",
              "       &#x27;1956-09-01T00:00:00.000000000&#x27;, &#x27;1956-10-01T00:00:00.000000000&#x27;,\n",
              "       &#x27;1956-11-01T00:00:00.000000000&#x27;, &#x27;1956-12-01T00:00:00.000000000&#x27;,\n",
              "       &#x27;1957-01-01T00:00:00.000000000&#x27;, &#x27;1957-02-01T00:00:00.000000000&#x27;,\n",
              "       &#x27;1957-03-01T00:00:00.000000000&#x27;, &#x27;1957-04-01T00:00:00.000000000&#x27;,\n",
              "       &#x27;1957-05-01T00:00:00.000000000&#x27;, &#x27;1957-06-01T00:00:00.000000000&#x27;,\n",
              "       &#x27;1957-07-01T00:00:00.000000000&#x27;, &#x27;1957-08-01T00:00:00.000000000&#x27;,\n",
              "       &#x27;1957-09-01T00:00:00.000000000&#x27;, &#x27;1957-10-01T00:00:00.000000000&#x27;,\n",
              "       &#x27;1957-11-01T00:00:00.000000000&#x27;, &#x27;1957-12-01T00:00:00.000000000&#x27;,\n",
              "       &#x27;1958-01-01T00:00:00.000000000&#x27;, &#x27;1958-02-01T00:00:00.000000000&#x27;,\n",
              "       &#x27;1958-03-01T00:00:00.000000000&#x27;, &#x27;1958-04-01T00:00:00.000000000&#x27;,\n",
              "       &#x27;1958-05-01T00:00:00.000000000&#x27;, &#x27;1958-06-01T00:00:00.000000000&#x27;,\n",
              "       &#x27;1958-07-01T00:00:00.000000000&#x27;, &#x27;1958-08-01T00:00:00.000000000&#x27;,\n",
              "       &#x27;1958-09-01T00:00:00.000000000&#x27;, &#x27;1958-10-01T00:00:00.000000000&#x27;,\n",
              "       &#x27;1958-11-01T00:00:00.000000000&#x27;, &#x27;1958-12-01T00:00:00.000000000&#x27;,\n",
              "       &#x27;1959-01-01T00:00:00.000000000&#x27;, &#x27;1959-02-01T00:00:00.000000000&#x27;,\n",
              "       &#x27;1959-03-01T00:00:00.000000000&#x27;, &#x27;1959-04-01T00:00:00.000000000&#x27;,\n",
              "       &#x27;1959-05-01T00:00:00.000000000&#x27;, &#x27;1959-06-01T00:00:00.000000000&#x27;,\n",
              "       &#x27;1959-07-01T00:00:00.000000000&#x27;, &#x27;1959-08-01T00:00:00.000000000&#x27;,\n",
              "       &#x27;1959-09-01T00:00:00.000000000&#x27;, &#x27;1959-10-01T00:00:00.000000000&#x27;,\n",
              "       &#x27;1959-11-01T00:00:00.000000000&#x27;, &#x27;1959-12-01T00:00:00.000000000&#x27;,\n",
              "       &#x27;1960-01-01T00:00:00.000000000&#x27;, &#x27;1960-02-01T00:00:00.000000000&#x27;,\n",
              "       &#x27;1960-03-01T00:00:00.000000000&#x27;, &#x27;1960-04-01T00:00:00.000000000&#x27;,\n",
              "       &#x27;1960-05-01T00:00:00.000000000&#x27;, &#x27;1960-06-01T00:00:00.000000000&#x27;,\n",
              "       &#x27;1960-07-01T00:00:00.000000000&#x27;, &#x27;1960-08-01T00:00:00.000000000&#x27;,\n",
              "       &#x27;1960-09-01T00:00:00.000000000&#x27;, &#x27;1960-10-01T00:00:00.000000000&#x27;,\n",
              "       &#x27;1960-11-01T00:00:00.000000000&#x27;, &#x27;1960-12-01T00:00:00.000000000&#x27;],\n",
              "      dtype=&#x27;datetime64[ns]&#x27;)</pre></div></li><li class='xr-var-item'><div class='xr-var-name'><span class='xr-has-index'>component</span></div><div class='xr-var-dims'>(component)</div><div class='xr-var-dtype'>object</div><div class='xr-var-preview xr-preview'>&#x27;#Passengers&#x27;</div><input id='attrs-77027418-8816-4455-9f35-994a3143fc61' class='xr-var-attrs-in' type='checkbox' disabled><label for='attrs-77027418-8816-4455-9f35-994a3143fc61' title='Show/Hide attributes'><svg class='icon xr-icon-file-text2'><use xlink:href='#icon-file-text2'></use></svg></label><input id='data-14d04a5c-4af0-4d36-94f3-59f1a84fa008' class='xr-var-data-in' type='checkbox'><label for='data-14d04a5c-4af0-4d36-94f3-59f1a84fa008' title='Show/Hide data repr'><svg class='icon xr-icon-database'><use xlink:href='#icon-database'></use></svg></label><div class='xr-var-attrs'><dl class='xr-attrs'></dl></div><div class='xr-var-data'><pre>array([&#x27;#Passengers&#x27;], dtype=object)</pre></div></li></ul></div></li><li class='xr-section-item'><input id='section-eb7b58bd-d64b-4dab-b40b-291b7b6123f6' class='xr-section-summary-in' type='checkbox'  ><label for='section-eb7b58bd-d64b-4dab-b40b-291b7b6123f6' class='xr-section-summary' >Indexes: <span>(2)</span></label><div class='xr-section-inline-details'></div><div class='xr-section-details'><ul class='xr-var-list'><li class='xr-var-item'><div class='xr-index-name'><div>Month</div></div><div class='xr-index-preview'>PandasIndex</div><div></div><input id='index-40c868aa-9bd3-4827-bf01-57af5d17d7a3' class='xr-index-data-in' type='checkbox'/><label for='index-40c868aa-9bd3-4827-bf01-57af5d17d7a3' title='Show/Hide index repr'><svg class='icon xr-icon-database'><use xlink:href='#icon-database'></use></svg></label><div class='xr-index-data'><pre>PandasIndex(DatetimeIndex([&#x27;1949-01-01&#x27;, &#x27;1949-02-01&#x27;, &#x27;1949-03-01&#x27;, &#x27;1949-04-01&#x27;,\n",
              "               &#x27;1949-05-01&#x27;, &#x27;1949-06-01&#x27;, &#x27;1949-07-01&#x27;, &#x27;1949-08-01&#x27;,\n",
              "               &#x27;1949-09-01&#x27;, &#x27;1949-10-01&#x27;,\n",
              "               ...\n",
              "               &#x27;1960-03-01&#x27;, &#x27;1960-04-01&#x27;, &#x27;1960-05-01&#x27;, &#x27;1960-06-01&#x27;,\n",
              "               &#x27;1960-07-01&#x27;, &#x27;1960-08-01&#x27;, &#x27;1960-09-01&#x27;, &#x27;1960-10-01&#x27;,\n",
              "               &#x27;1960-11-01&#x27;, &#x27;1960-12-01&#x27;],\n",
              "              dtype=&#x27;datetime64[ns]&#x27;, name=&#x27;Month&#x27;, length=144, freq=&#x27;MS&#x27;))</pre></div></li><li class='xr-var-item'><div class='xr-index-name'><div>component</div></div><div class='xr-index-preview'>PandasIndex</div><div></div><input id='index-8383b59a-045f-4b7a-9442-1fc94a12a65f' class='xr-index-data-in' type='checkbox'/><label for='index-8383b59a-045f-4b7a-9442-1fc94a12a65f' title='Show/Hide index repr'><svg class='icon xr-icon-database'><use xlink:href='#icon-database'></use></svg></label><div class='xr-index-data'><pre>PandasIndex(Index([&#x27;#Passengers&#x27;], dtype=&#x27;object&#x27;, name=&#x27;component&#x27;))</pre></div></li></ul></div></li><li class='xr-section-item'><input id='section-d04cb74e-d3d0-4f4c-910f-b169bc785576' class='xr-section-summary-in' type='checkbox'  checked><label for='section-d04cb74e-d3d0-4f4c-910f-b169bc785576' class='xr-section-summary' >Attributes: <span>(2)</span></label><div class='xr-section-inline-details'></div><div class='xr-section-details'><dl class='xr-attrs'><dt><span>static_covariates :</span></dt><dd>None</dd><dt><span>hierarchy :</span></dt><dd>None</dd></dl></div></li></ul></div></div>"
            ]
          },
          "metadata": {},
          "execution_count": 2
        }
      ]
    },
    {
      "cell_type": "markdown",
      "metadata": {
        "id": "yiUEksWv5Ljy"
      },
      "source": [
        "Mixture of Array and Coordinates where:\n",
        "- Passengers - array - int64\n",
        "- Month - DateTime\n"
      ]
    },
    {
      "cell_type": "code",
      "metadata": {
        "colab": {
          "base_uri": "https://localhost:8080/"
        },
        "id": "LxTZNSq1UEBO",
        "outputId": "dbf4e198-f5b1-4aa7-e834-26b7951d1945"
      },
      "source": [
        "# array + df - conversion to dataframe\n",
        "print(\"Air Passanger Dataset\\n\",AirPassengersDataset().load().pd_dataframe())"
      ],
      "execution_count": null,
      "outputs": [
        {
          "output_type": "stream",
          "name": "stdout",
          "text": [
            "Air Passanger Dataset\n",
            " component   #Passengers\n",
            "Month                  \n",
            "1949-01-01        112.0\n",
            "1949-02-01        118.0\n",
            "1949-03-01        132.0\n",
            "1949-04-01        129.0\n",
            "1949-05-01        121.0\n",
            "...                 ...\n",
            "1960-08-01        606.0\n",
            "1960-09-01        508.0\n",
            "1960-10-01        461.0\n",
            "1960-11-01        390.0\n",
            "1960-12-01        432.0\n",
            "\n",
            "[144 rows x 1 columns]\n"
          ]
        }
      ]
    },
    {
      "cell_type": "markdown",
      "metadata": {
        "id": "mWf-VSk92Urq"
      },
      "source": [
        "same as raw but in a dataframe format :\n",
        "- Month/Day/Date column : `Month`\n",
        "- Associated Data : `Passengers`"
      ]
    },
    {
      "cell_type": "markdown",
      "metadata": {
        "id": "ubaUlcOL5qks"
      },
      "source": [
        "# Plotting the Dataset"
      ]
    },
    {
      "cell_type": "code",
      "metadata": {
        "id": "hF1a9mg97hB-"
      },
      "source": [
        "#!pip uninstall matplotlib\n",
        "#!pip install matplotlib==3.1.3"
      ],
      "execution_count": null,
      "outputs": []
    },
    {
      "cell_type": "code",
      "metadata": {
        "id": "UqN5iieyUhc0"
      },
      "source": [
        "# loading library\n",
        "import matplotlib.pyplot as plt\n",
        "%matplotlib inline"
      ],
      "execution_count": null,
      "outputs": []
    },
    {
      "cell_type": "code",
      "metadata": {
        "id": "tgIlvZZC6W5R"
      },
      "source": [
        "# Loading Dataset\n",
        "air_ds = AirPassengersDataset().load()"
      ],
      "execution_count": null,
      "outputs": []
    },
    {
      "cell_type": "code",
      "metadata": {
        "colab": {
          "base_uri": "https://localhost:8080/",
          "height": 499
        },
        "id": "zDfDG0zo6taB",
        "outputId": "cfa15a8e-dd33-4e0c-b611-33ab687390a4"
      },
      "source": [
        "plt.figure(figsize=(10,5))\n",
        "\n",
        "air_ds.plot(label=\"Air Passenger Per Month\" )\n",
        "\n",
        "plt.title(\"Air Passengers Time Series\")\n",
        "plt.legend()\n",
        "\n",
        "plt.show()"
      ],
      "execution_count": null,
      "outputs": [
        {
          "output_type": "display_data",
          "data": {
            "text/plain": [
              "<Figure size 1000x500 with 1 Axes>"
            ],
            "image/png": "[encoded data removed]"
          },
          "metadata": {}
        }
      ]
    },
    {
      "cell_type": "markdown",
      "metadata": {
        "id": "axSeCaw18YK_"
      },
      "source": [
        "---\n",
        "# Data Processing\n",
        "Includes:\n",
        "- Standard Scaling\n",
        "- Train Test Split\n"
      ]
    },
    {
      "cell_type": "markdown",
      "metadata": {
        "id": "r3FUFlJ-At-h"
      },
      "source": [
        "### Standard Scaling\n",
        "\n",
        "Standard scaling  technique can be used to convert varied data on the same scale.\n",
        "\n",
        "- `Scaler()` - Provided by dart uses same `fit_transform` method as provided by other libraries and works the same way.\n",
        "\n",
        "> Note: `fit_transform`is different from `fit` in that it combines both fit and transform methods on one go. One may want to use it as it increases efficiency for the data scaling and reduce the code"
      ]
    },
    {
      "cell_type": "code",
      "metadata": {
        "id": "drt1hFla7Sas"
      },
      "source": [
        "from darts.dataprocessing.transformers import Scaler\n",
        "\n",
        "# creating scaler object\n",
        "scaler_air = Scaler()\n"
      ],
      "execution_count": null,
      "outputs": []
    },
    {
      "cell_type": "code",
      "metadata": {
        "id": "xFzH1Lp5-8l2"
      },
      "source": [
        "# performing the scaling\n",
        "air_ds_scaled = scaler_air.fit_transform(air_ds)"
      ],
      "execution_count": null,
      "outputs": []
    },
    {
      "cell_type": "code",
      "metadata": {
        "colab": {
          "base_uri": "https://localhost:8080/",
          "height": 499
        },
        "id": "MKJtB9NB_T1x",
        "outputId": "96c6e4c0-d6ea-48c4-85b7-5e03a555de72"
      },
      "source": [
        "plt.figure(figsize=(10,5))\n",
        "\n",
        "air_ds_scaled.plot(label = \"Air Passangers Scaled\")\n",
        "\n",
        "plt.title(\"Air Passengers Time Serie (scaled)\")\n",
        "plt.legend()\n",
        "\n",
        "plt.show()"
      ],
      "execution_count": null,
      "outputs": [
        {
          "output_type": "display_data",
          "data": {
            "text/plain": [
              "<Figure size 1000x500 with 1 Axes>"
            ],
            "image/png": "[encoded data removed]"
          },
          "metadata": {}
        }
      ]
    },
    {
      "cell_type": "markdown",
      "metadata": {
        "id": "eSVkTT2O_4Md"
      },
      "source": [
        "> Both dataset observation is now **on same scale** of [0-1]"
      ]
    },
    {
      "cell_type": "markdown",
      "source": [
        "---\n",
        "# Forecast Model Creation"
      ],
      "metadata": {
        "id": "Lui6IiOi-N8k"
      }
    },
    {
      "cell_type": "markdown",
      "metadata": {
        "id": "tr0PGN-TA1k0"
      },
      "source": [
        " ## Train Test Split - Includes last as it is most promising data\n",
        "- train set - first 36 data point\n",
        "- val set - next 36 data point"
      ]
    },
    {
      "cell_type": "code",
      "metadata": {
        "id": "10f_bxjpCChJ"
      },
      "source": [
        "train_air_ds,  val_air_ds = air_ds_scaled[:-36], air_ds_scaled[-36:]"
      ],
      "execution_count": null,
      "outputs": []
    },
    {
      "cell_type": "markdown",
      "metadata": {
        "id": "kyjoIpDaAHPA"
      },
      "source": [
        "## Creating Model And Forecasting\n",
        "\n",
        "Will create a single model which will forecast for both dataset - great!"
      ]
    },
    {
      "cell_type": "code",
      "metadata": {
        "id": "JjR7Ir3OAGbo"
      },
      "source": [
        "# importing model\n",
        "from darts.models import NBEATSModel"
      ],
      "execution_count": null,
      "outputs": []
    },
    {
      "cell_type": "code",
      "metadata": {
        "id": "0iAc0NHu_vIN"
      },
      "source": [
        "# creating a model object\n",
        "model = NBEATSModel(input_chunk_length=24 ,\n",
        "                    output_chunk_length=12,\n",
        "                    n_epochs = 100 ,\n",
        "                    random_state = 15\n",
        "                    )"
      ],
      "execution_count": null,
      "outputs": []
    },
    {
      "cell_type": "code",
      "metadata": {
        "colab": {
          "base_uri": "https://localhost:8080/",
          "height": 396,
          "referenced_widgets": [
            "88a7c0098ff44cb39cd5b4ef6be4ad27",
            "b811ca10f4a94b058f3ca75d1959bc1a",
            "fc43250de6934818ab69abbdb590305e",
            "d3ffd064c6fa4c6fb4e877f3eb04d835",
            "fb1b707d2a2d4882837514ee93329817",
            "dbf320c63fa64e62b7012f488c4355ee",
            "8560f0f5a774491e9778816a5055d298",
            "809fe4f678204175bc1fa7f2639fe7b6",
            "4cf1d3ffb7f04fe682a18e5583e10c67",
            "712bb2fe9e934c1ea0bb00a5d0c869d3",
            "56c9fd1072c14a87b0a967fa426a4443"
          ]
        },
        "id": "fKZiruSZIoxE",
        "outputId": "99b32f66-2753-4994-a071-8b0f92831098"
      },
      "source": [
        "# fitting the model\n",
        "model.fit(train_air_ds, verbose = True)"
      ],
      "execution_count": null,
      "outputs": [
        {
          "output_type": "stream",
          "name": "stderr",
          "text": [
            "INFO:pytorch_lightning.utilities.rank_zero:GPU available: True (cuda), used: True\n",
            "INFO:pytorch_lightning.utilities.rank_zero:TPU available: False, using: 0 TPU cores\n",
            "INFO:pytorch_lightning.utilities.rank_zero:IPU available: False, using: 0 IPUs\n",
            "INFO:pytorch_lightning.utilities.rank_zero:HPU available: False, using: 0 HPUs\n",
            "INFO:pytorch_lightning.accelerators.cuda:LOCAL_RANK: 0 - CUDA_VISIBLE_DEVICES: [0]\n",
            "INFO:pytorch_lightning.callbacks.model_summary:\n",
            "  | Name          | Type             | Params\n",
            "---------------------------------------------------\n",
            "0 | criterion     | MSELoss          | 0     \n",
            "1 | train_metrics | MetricCollection | 0     \n",
            "2 | val_metrics   | MetricCollection | 0     \n",
            "3 | stacks        | ModuleList       | 6.2 M \n",
            "---------------------------------------------------\n",
            "6.2 M     Trainable params\n",
            "1.4 K     Non-trainable params\n",
            "6.2 M     Total params\n",
            "24.787    Total estimated model params size (MB)\n"
          ]
        },
        {
          "output_type": "display_data",
          "data": {
            "text/plain": [
              "Training: |          | 0/? [00:00<?, ?it/s]"
            ],
            "application/vnd.jupyter.widget-view+json": {
              "version_major": 2,
              "version_minor": 0,
              "model_id": "88a7c0098ff44cb39cd5b4ef6be4ad27"
            }
          },
          "metadata": {}
        },
        {
          "output_type": "stream",
          "name": "stderr",
          "text": [
            "INFO:pytorch_lightning.utilities.rank_zero:`Trainer.fit` stopped: `max_epochs=100` reached.\n"
          ]
        },
        {
          "output_type": "execute_result",
          "data": {
            "text/plain": [
              "NBEATSModel(output_chunk_shift=0, generic_architecture=True, num_stacks=30, num_blocks=1, num_layers=4, layer_widths=256, expansion_coefficient_dim=5, trend_polynomial_degree=2, dropout=0.0, activation=ReLU, input_chunk_length=24, output_chunk_length=12, n_epochs=100, random_state=15)"
            ]
          },
          "metadata": {},
          "execution_count": 17
        }
      ]
    },
    {
      "cell_type": "markdown",
      "metadata": {
        "id": "rLpy7nWCNBvI"
      },
      "source": [
        "## Predict + Evaluate Results\n",
        "+ **MAPE** - Mean Average Precession Error"
      ]
    },
    {
      "cell_type": "code",
      "metadata": {
        "id": "iqWRP9hSI5xa"
      },
      "source": [
        "from darts.metrics import mape"
      ],
      "execution_count": null,
      "outputs": []
    },
    {
      "cell_type": "code",
      "metadata": {
        "colab": {
          "base_uri": "https://localhost:8080/",
          "height": 153,
          "referenced_widgets": [
            "ba21c8a2cd5e432486ae9bf58480b684",
            "605f0c5accaa4c6e85db863fd47731de",
            "ad0bffe5403d4d08a781b1a146ca96ac",
            "627af600c4234fe297bebab09e0db040",
            "d20a8ef228264289ae516e418a6cd5bd",
            "6fe50ea752c34e9fa35bd15a224ded13",
            "e8c5ddfa411e48e3bf93983e6449e133",
            "86615e6c6fe54bd5b64317509b3c0369",
            "7c9d6ee5bd1e41b1932c04d4aece5dfd",
            "accb394e5be34a7fa17309d12745bb6a",
            "9f1e5c26f75c46aa95b897c53a4cf1dd"
          ]
        },
        "id": "hdX-T9BdL-kL",
        "outputId": "3745941a-8534-4691-db4f-09ad758003df"
      },
      "source": [
        "pred_air = model.predict(n = 36,\n",
        "                         series = train_air_ds\n",
        "                         )\n",
        "\n",
        "print(\"Mape AIR = {:.2f}%\".format(mape(air_ds_scaled , pred_air)))"
      ],
      "execution_count": null,
      "outputs": [
        {
          "output_type": "stream",
          "name": "stderr",
          "text": [
            "INFO:pytorch_lightning.utilities.rank_zero:GPU available: True (cuda), used: True\n",
            "INFO:pytorch_lightning.utilities.rank_zero:TPU available: False, using: 0 TPU cores\n",
            "INFO:pytorch_lightning.utilities.rank_zero:IPU available: False, using: 0 IPUs\n",
            "INFO:pytorch_lightning.utilities.rank_zero:HPU available: False, using: 0 HPUs\n",
            "INFO:pytorch_lightning.accelerators.cuda:LOCAL_RANK: 0 - CUDA_VISIBLE_DEVICES: [0]\n"
          ]
        },
        {
          "output_type": "display_data",
          "data": {
            "text/plain": [
              "Predicting: |          | 0/? [00:00<?, ?it/s]"
            ],
            "application/vnd.jupyter.widget-view+json": {
              "version_major": 2,
              "version_minor": 0,
              "model_id": "ba21c8a2cd5e432486ae9bf58480b684"
            }
          },
          "metadata": {}
        },
        {
          "output_type": "stream",
          "name": "stdout",
          "text": [
            "Mape AIR = 10.51%\n"
          ]
        }
      ]
    },
    {
      "cell_type": "markdown",
      "metadata": {
        "id": "N6QAFd13RPPH"
      },
      "source": [
        "## Visualize: Original + Forecasted Values"
      ]
    },
    {
      "cell_type": "code",
      "metadata": {
        "colab": {
          "base_uri": "https://localhost:8080/",
          "height": 516
        },
        "id": "01OPXwhcNFqb",
        "outputId": "81788a67-e2a3-42f5-9a8a-23ef661ba96b"
      },
      "source": [
        "# plotting results\n",
        "plt.figure(figsize=(10,5))\n",
        "\n",
        "air_ds_scaled.plot(label = \"actual scaled\")\n",
        "pred_air.plot(label = \"forecasted\") # validation data set\n",
        "\n",
        "plt.title(\"Air Passengers Time Serie (scaled + forecasted)\")\n",
        "plt.legend()\n",
        "\n",
        "plt.show()\n",
        "\n",
        "print(\"Mape AIR = {:.2f}%\".format(mape(air_ds_scaled , pred_air)))"
      ],
      "execution_count": null,
      "outputs": [
        {
          "output_type": "display_data",
          "data": {
            "text/plain": [
              "<Figure size 1000x500 with 1 Axes>"
            ],
            "image/png": "[encoded data removed]"
          },
          "metadata": {}
        },
        {
          "output_type": "stream",
          "name": "stdout",
          "text": [
            "Mape AIR = 10.51%\n"
          ]
        }
      ]
    },
    {
      "cell_type": "code",
      "source": [
        "# show model parms\n",
        "model.model_params, model.residuals"
      ],
      "metadata": {
        "colab": {
          "base_uri": "https://localhost:8080/"
        },
        "id": "rJKwRqTtTHmZ",
        "outputId": "2006cc8e-f60e-4df8-b4a1-4125242eded1"
      },
      "execution_count": null,
      "outputs": [
        {
          "output_type": "execute_result",
          "data": {
            "text/plain": [
              "(OrderedDict([('output_chunk_shift', 0),\n",
              "              ('generic_architecture', True),\n",
              "              ('num_stacks', 30),\n",
              "              ('num_blocks', 1),\n",
              "              ('num_layers', 4),\n",
              "              ('layer_widths', 256),\n",
              "              ('expansion_coefficient_dim', 5),\n",
              "              ('trend_polynomial_degree', 2),\n",
              "              ('dropout', 0.0),\n",
              "              ('activation', 'ReLU'),\n",
              "              ('input_chunk_length', 24),\n",
              "              ('output_chunk_length', 12),\n",
              "              ('n_epochs', 100),\n",
              "              ('random_state', 15)]),\n",
              " <bound method ForecastingModel.residuals of NBEATSModel(output_chunk_shift=0, generic_architecture=True, num_stacks=30, num_blocks=1, num_layers=4, layer_widths=256, expansion_coefficient_dim=5, trend_polynomial_degree=2, dropout=0.0, activation=ReLU, input_chunk_length=24, output_chunk_length=12, n_epochs=100, random_state=15)>)"
            ]
          },
          "metadata": {},
          "execution_count": 23
        }
      ]
    },
    {
      "cell_type": "markdown",
      "source": [
        "## Save and Restore the Forecast Model"
      ],
      "metadata": {
        "id": "spoNDJxR_TL9"
      }
    },
    {
      "cell_type": "code",
      "source": [
        "#save model to file\n",
        "model.save(\"AirModel.pt\")"
      ],
      "metadata": {
        "id": "25OX3x99TtkC"
      },
      "execution_count": null,
      "outputs": []
    },
    {
      "cell_type": "code",
      "source": [
        "from darts.models import NBEATSModel\n",
        "\n",
        "#reload saved model\n",
        "model_loaded = NBEATSModel.load(\"AirModel.pt\")"
      ],
      "metadata": {
        "id": "CpHkNTqGVO2v"
      },
      "execution_count": null,
      "outputs": []
    },
    {
      "cell_type": "code",
      "source": [
        "# show params of the reloaded model\n",
        "model_loaded.model_params"
      ],
      "metadata": {
        "colab": {
          "base_uri": "https://localhost:8080/"
        },
        "id": "YCoxABYoVrAE",
        "outputId": "9820fa45-5ca6-401f-bd35-1b76b01f54ff"
      },
      "execution_count": null,
      "outputs": [
        {
          "output_type": "execute_result",
          "data": {
            "text/plain": [
              "OrderedDict([('generic_architecture', True),\n",
              "             ('num_stacks', 30),\n",
              "             ('num_blocks', 1),\n",
              "             ('num_layers', 4),\n",
              "             ('layer_widths', 256),\n",
              "             ('expansion_coefficient_dim', 5),\n",
              "             ('trend_polynomial_degree', 2),\n",
              "             ('dropout', 0.0),\n",
              "             ('activation', 'ReLU'),\n",
              "             ('input_chunk_length', 24),\n",
              "             ('output_chunk_length', 12),\n",
              "             ('n_epochs', 100),\n",
              "             ('random_state', 15)])"
            ]
          },
          "metadata": {},
          "execution_count": 53
        }
      ]
    },
    {
      "cell_type": "code",
      "source": [
        "#forecast with reloaded model\n",
        "pred_airX = model_loaded.predict(n = 36, series = train_air_ds)"
      ],
      "metadata": {
        "colab": {
          "base_uri": "https://localhost:8080/",
          "height": 136,
          "referenced_widgets": [
            "b7ff8418b51c4e1b94d9c47a1eac70ca",
            "eb5ad902eeb84c518dfeace987662bc2",
            "dec64f08747c4eb1bf9bbdeff2b13135",
            "d9f0abd8d7934c628c1ba3d7de6ede22",
            "ea5203385dee4917b7d2eb7b38dca7d9",
            "04862c451c4d49189c1802048154c6c5",
            "c1969decd25d4cadb42c1080b22a3a7d",
            "631cfc4f4b06463a999a357a46f5cf46",
            "79a720ccedcd4182aaa2ff0299468dbe",
            "567bc2a0fca54f5583d65038031f04e0",
            "b8294d36433a410b8be79f9c0933b266"
          ]
        },
        "id": "G0jkw_R6V2qz",
        "outputId": "6eada0ef-e52b-4e9b-b6e8-5db8ce480edc"
      },
      "execution_count": null,
      "outputs": [
        {
          "output_type": "stream",
          "name": "stderr",
          "text": [
            "INFO:pytorch_lightning.utilities.rank_zero:GPU available: True (cuda), used: True\n",
            "INFO:pytorch_lightning.utilities.rank_zero:TPU available: False, using: 0 TPU cores\n",
            "INFO:pytorch_lightning.utilities.rank_zero:IPU available: False, using: 0 IPUs\n",
            "INFO:pytorch_lightning.utilities.rank_zero:HPU available: False, using: 0 HPUs\n",
            "INFO:pytorch_lightning.accelerators.cuda:LOCAL_RANK: 0 - CUDA_VISIBLE_DEVICES: [0]\n"
          ]
        },
        {
          "output_type": "display_data",
          "data": {
            "text/plain": [
              "Predicting: |          | 0/? [00:00<?, ?it/s]"
            ],
            "application/vnd.jupyter.widget-view+json": {
              "version_major": 2,
              "version_minor": 0,
              "model_id": "b7ff8418b51c4e1b94d9c47a1eac70ca"
            }
          },
          "metadata": {}
        }
      ]
    },
    {
      "cell_type": "code",
      "source": [
        "# plotting results\n",
        "plt.figure(figsize=(10,5))\n",
        "\n",
        "air_ds_scaled.plot(label = \"actual scaled\")\n",
        "pred_air.plot(label = \"forecasted\") # validation data set\n",
        "pred_airX.plot(label = \"forecasted with loaded model\") # validation data set\n",
        "\n",
        "plt.title(\"Air Passengers Time Serie (scaled + forecasted with loaded model)\")\n",
        "plt.legend()\n",
        "\n",
        "plt.show()"
      ],
      "metadata": {
        "colab": {
          "base_uri": "https://localhost:8080/",
          "height": 499
        },
        "id": "5Fsh6ZnAWCsl",
        "outputId": "87bc8118-08c4-4521-c71e-78eb0476b8cc"
      },
      "execution_count": null,
      "outputs": [
        {
          "output_type": "display_data",
          "data": {
            "text/plain": [
              "<Figure size 1000x500 with 1 Axes>"
            ],
            "image/png": "[encoded data removed]"
          },
          "metadata": {}
        }
      ]
    }
  ]
}